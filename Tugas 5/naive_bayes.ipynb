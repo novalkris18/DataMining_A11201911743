{
  "nbformat": 4,
  "nbformat_minor": 0,
  "metadata": {
    "colab": {
      "name": "naive_bayes.ipynb",
      "provenance": [],
      "collapsed_sections": []
    },
    "kernelspec": {
      "name": "python3",
      "display_name": "Python 3"
    },
    "language_info": {
      "name": "python"
    }
  },
  "cells": [
    {
      "cell_type": "code",
      "execution_count": 60,
      "metadata": {
        "id": "UxHWxBxpOTiM"
      },
      "outputs": [],
      "source": [
        "import numpy as np\n",
        "import matplotlib.pyplot as plt\n",
        "import pandas as pd"
      ]
    },
    {
      "cell_type": "code",
      "source": [
        "dataset = pd.read_csv('bike_buyers_clean.csv')\n",
        "X = dataset.iloc[:, [3, 4]].values\n",
        "y = dataset.iloc[:, -1].values"
      ],
      "metadata": {
        "id": "pmU0W5e2SGEf"
      },
      "execution_count": 61,
      "outputs": []
    },
    {
      "cell_type": "code",
      "source": [
        "print(X)"
      ],
      "metadata": {
        "colab": {
          "base_uri": "https://localhost:8080/"
        },
        "id": "DKsS87EQhzhK",
        "outputId": "d8efa102-7ca3-4d4c-9b71-32fa4207df9f"
      },
      "execution_count": 62,
      "outputs": [
        {
          "output_type": "stream",
          "name": "stdout",
          "text": [
            "[[ 40000      1]\n",
            " [ 30000      3]\n",
            " [ 80000      5]\n",
            " ...\n",
            " [ 60000      2]\n",
            " [100000      3]\n",
            " [ 60000      3]]\n"
          ]
        }
      ]
    },
    {
      "cell_type": "code",
      "source": [
        "print(y)"
      ],
      "metadata": {
        "colab": {
          "base_uri": "https://localhost:8080/"
        },
        "id": "3GokQc9RiGoD",
        "outputId": "3d4d19e6-59c0-4303-97f8-bf2056960bbf"
      },
      "execution_count": 63,
      "outputs": [
        {
          "output_type": "stream",
          "name": "stdout",
          "text": [
            "[0 0 0 1 1 0 1 1 0 1 1 0 0 1 1 1 1 0 1 1 1 0 1 0 0 0 1 0 0 1 0 1 0 1 1 0 1\n",
            " 0 0 1 0 1 0 1 1 1 1 1 0 1 0 0 0 0 0 0 1 1 1 1 0 0 1 0 1 0 1 1 1 0 1 0 0 1\n",
            " 0 0 0 1 1 1 1 0 1 0 1 1 1 0 0 1 1 1 1 0 0 0 0 1 1 0 0 1 0 0 1 0 1 1 1 1 1\n",
            " 0 0 1 1 1 0 1 0 0 1 0 0 0 1 0 0 0 1 1 0 1 1 1 0 0 1 0 1 1 1 1 1 0 1 0 1 1\n",
            " 0 0 1 0 0 0 0 1 0 0 1 0 1 1 1 0 1 0 1 0 1 0 1 0 0 0 1 1 1 0 1 1 0 1 0 1 0\n",
            " 1 1 0 1 1 0 1 0 0 0 1 0 1 1 1 0 1 1 1 0 1 0 1 1 1 0 1 0 1 1 1 0 0 0 1 1 0\n",
            " 0 0 0 0 1 0 0 0 0 1 0 1 1 1 1 1 0 1 0 0 1 0 1 1 1 1 0 1 1 0 0 1 0 1 0 1 0\n",
            " 1 0 1 0 0 1 0 0 1 0 1 1 0 1 0 1 1 0 1 1 1 0 0 0 0 0 0 0 1 0 1 1 1 1 1 1 1\n",
            " 1 1 1 0 0 1 1 0 1 0 1 0 1 1 0 0 1 1 1 0 1 1 0 0 1 1 1 1 1 1 1 0 0 0 0 0 1\n",
            " 1 0 0 0 0 1 0 0 1 0 0 1 1 1 1 0 1 1 1 0 1 0 0 1 0 1 0 1 1 1 1 1 1 1 1 1 1\n",
            " 0 0 1 0 0 0 1 1 0 0 1 0 0 1 1 0 1 1 0 1 0 1 0 0 1 1 1 0 1 1 0 0 0 0 1 1 0\n",
            " 1 0 0 1 0 0 0 1 0 1 0 1 1 0 0 1 1 0 0 0 1 0 0 0 1 1 0 1 0 1 1 1 0 1 1 1 1\n",
            " 0 1 0 1 0 0 1 0 0 0 0 1 0 0 1 0 1 1 1 0 1 0 1 1 0 0 0 1 1 1 1 0 1 1 1 1 0\n",
            " 1 1 0 1 0 0 0 0 0 0 0 1 1 0 0 1 1 1 1 0 0 0 1 1 0 1 1 0 1 1 1 1 1 0 0 0 1\n",
            " 1 0 0 1 1 1 0 1 0 0 0 1 1 0 1 0 0 0 1 1 0 1 0 0 0 0 0 0 1 1 0 1 1 0 1 1 1\n",
            " 1 0 0 0 0 0 0 1 0 0 1 0 1 1 0 0 0 0 0 1 0 0 0 0 0 0 0 0 0 1 1 0 0 1 0 1 1\n",
            " 0 1 0 0 0 1 0 1 0 0 1 1 0 1 0 1 1 0 0 1 0 1 0 1 0 1 0 0 1 0 0 0 1 0 0 0 1\n",
            " 0 0 0 0 1 0 0 1 0 1 0 1 0 1 1 0 0 0 0 1 1 1 1 0 1 1 0 0 0 1 0 1 1 0 0 1 0\n",
            " 1 0 0 0 0 1 0 1 0 0 0 0 0 0 0 0 0 0 0 1 1 0 0 0 0 1 1 1 1 0 0 0 0 1 0 0 1\n",
            " 0 1 0 1 1 0 0 1 0 0 0 1 1 0 1 1 0 1 1 0 0 0 1 0 1 0 1 1 1 1 0 1 0 0 0 1 0\n",
            " 0 1 0 0 0 1 0 0 0 0 0 0 0 0 1 0 1 1 0 1 0 0 1 1 0 1 0 1 0 0 0 1 1 0 1 0 1\n",
            " 0 0 1 0 0 1 0 1 1 0 1 0 1 0 1 0 1 0 0 1 1 1 1 1 0 0 1 1 0 0 1 1 0 1 0 0 0\n",
            " 1 0 1 1 0 0 0 1 0 1 1 1 1 1 0 0 0 1 0 1 1 1 0 0 1 1 0 0 1 0 0 0 0 0 1 0 0\n",
            " 1 1 1 0 0 0 1 0 0 0 1 1 1 0 1 0 0 1 0 0 0 1 0 1 1 0 0 0 0 1 1 0 1 0 0 0 0\n",
            " 0 1 0 1 1 0 1 1 1 0 1 0 1 1 0 0 1 1 1 0 1 1 0 0 0 1 0 0 1 1 1 0 0 1 1 1 1\n",
            " 1 0 0 0 0 0 1 1 0 0 1 0 1 0 0 0 1 0 0 1 1 1 1 0 0 0 0 0 1 1 0 1 0 1 1 0 0\n",
            " 0 1 0 0 1 0 0 0 0 0 0 0 1 1 0 0 0 0 1 0 1 0 1 0 1 0 0 0 0 1 1 1 0 1 1 1 0\n",
            " 1]\n"
          ]
        }
      ]
    },
    {
      "cell_type": "code",
      "source": [
        "from sklearn.model_selection import train_test_split\n",
        "X_train, X_test, y_train, y_test = train_test_split(X, y, test_size = 0.25, random_state = 0)"
      ],
      "metadata": {
        "id": "ipvJYdGWSchw"
      },
      "execution_count": 64,
      "outputs": []
    },
    {
      "cell_type": "code",
      "source": [
        "print(X_train)"
      ],
      "metadata": {
        "colab": {
          "base_uri": "https://localhost:8080/"
        },
        "id": "N98wUBahinHl",
        "outputId": "85258794-6244-4b0c-ec10-5d0b6052adca"
      },
      "execution_count": 65,
      "outputs": [
        {
          "output_type": "stream",
          "name": "stdout",
          "text": [
            "[[100000      3]\n",
            " [ 40000      5]\n",
            " [ 10000      0]\n",
            " ...\n",
            " [ 50000      1]\n",
            " [ 60000      2]\n",
            " [ 60000      4]]\n"
          ]
        }
      ]
    },
    {
      "cell_type": "code",
      "source": [
        "print(X_test)"
      ],
      "metadata": {
        "colab": {
          "base_uri": "https://localhost:8080/"
        },
        "id": "UdNX00pji8o1",
        "outputId": "80e41433-c886-44b4-891c-ce1d33826cbc"
      },
      "execution_count": 67,
      "outputs": [
        {
          "output_type": "stream",
          "name": "stdout",
          "text": [
            "[[150000      1]\n",
            " [ 30000      2]\n",
            " [ 90000      4]\n",
            " [ 40000      3]\n",
            " [ 40000      0]\n",
            " [ 60000      2]\n",
            " [100000      0]\n",
            " [ 40000      0]\n",
            " [ 90000      2]\n",
            " [ 60000      0]\n",
            " [ 60000      3]\n",
            " [ 50000      3]\n",
            " [ 10000      2]\n",
            " [ 30000      0]\n",
            " [ 60000      4]\n",
            " [ 80000      4]\n",
            " [ 60000      1]\n",
            " [ 80000      2]\n",
            " [ 60000      1]\n",
            " [ 80000      0]\n",
            " [ 10000      0]\n",
            " [ 40000      2]\n",
            " [120000      4]\n",
            " [ 60000      1]\n",
            " [ 60000      1]\n",
            " [ 20000      2]\n",
            " [ 20000      1]\n",
            " [ 60000      1]\n",
            " [ 20000      3]\n",
            " [ 30000      3]\n",
            " [ 70000      4]\n",
            " [ 60000      0]\n",
            " [100000      3]\n",
            " [ 80000      2]\n",
            " [ 40000      2]\n",
            " [ 40000      0]\n",
            " [ 60000      0]\n",
            " [ 60000      1]\n",
            " [ 70000      0]\n",
            " [100000      5]\n",
            " [120000      4]\n",
            " [ 70000      4]\n",
            " [ 30000      2]\n",
            " [ 20000      2]\n",
            " [130000      4]\n",
            " [ 60000      4]\n",
            " [ 40000      0]\n",
            " [ 10000      0]\n",
            " [ 50000      2]\n",
            " [130000      0]\n",
            " [ 10000      0]\n",
            " [110000      0]\n",
            " [ 10000      2]\n",
            " [110000      0]\n",
            " [ 50000      0]\n",
            " [ 80000      4]\n",
            " [ 10000      4]\n",
            " [ 10000      2]\n",
            " [ 60000      3]\n",
            " [ 30000      3]\n",
            " [ 50000      3]\n",
            " [ 70000      3]\n",
            " [ 40000      1]\n",
            " [ 40000      2]\n",
            " [ 30000      2]\n",
            " [ 50000      0]\n",
            " [ 40000      0]\n",
            " [ 30000      0]\n",
            " [ 60000      0]\n",
            " [ 40000      0]\n",
            " [ 40000      2]\n",
            " [ 30000      2]\n",
            " [ 40000      4]\n",
            " [100000      0]\n",
            " [ 40000      2]\n",
            " [ 40000      2]\n",
            " [ 80000      0]\n",
            " [ 70000      5]\n",
            " [ 80000      4]\n",
            " [ 40000      0]\n",
            " [ 40000      1]\n",
            " [120000      3]\n",
            " [120000      0]\n",
            " [ 40000      2]\n",
            " [ 60000      0]\n",
            " [ 60000      4]\n",
            " [ 30000      5]\n",
            " [ 50000      0]\n",
            " [ 70000      1]\n",
            " [ 30000      1]\n",
            " [ 30000      2]\n",
            " [ 70000      4]\n",
            " [ 70000      3]\n",
            " [ 30000      1]\n",
            " [ 70000      3]\n",
            " [ 30000      2]\n",
            " [ 70000      1]\n",
            " [ 40000      0]\n",
            " [130000      3]\n",
            " [ 60000      5]\n",
            " [ 40000      0]\n",
            " [ 50000      3]\n",
            " [ 30000      2]\n",
            " [ 80000      3]\n",
            " [ 30000      0]\n",
            " [120000      4]\n",
            " [ 60000      1]\n",
            " [ 60000      2]\n",
            " [ 90000      5]\n",
            " [ 30000      1]\n",
            " [ 40000      1]\n",
            " [ 60000      3]\n",
            " [ 30000      3]\n",
            " [ 80000      3]\n",
            " [ 30000      3]\n",
            " [ 30000      3]\n",
            " [ 60000      0]\n",
            " [ 80000      4]\n",
            " [ 20000      0]\n",
            " [ 60000      4]\n",
            " [ 60000      2]\n",
            " [ 60000      2]\n",
            " [ 80000      0]\n",
            " [ 90000      5]\n",
            " [ 10000      1]\n",
            " [ 40000      5]\n",
            " [ 40000      1]\n",
            " [ 70000      5]\n",
            " [ 80000      2]\n",
            " [ 60000      3]\n",
            " [ 60000      2]\n",
            " [ 40000      0]\n",
            " [ 90000      4]\n",
            " [ 70000      2]\n",
            " [ 40000      0]\n",
            " [ 70000      0]\n",
            " [ 20000      4]\n",
            " [ 20000      2]\n",
            " [ 60000      2]\n",
            " [ 30000      0]\n",
            " [ 60000      3]\n",
            " [ 60000      4]\n",
            " [100000      1]\n",
            " [ 70000      0]\n",
            " [100000      0]\n",
            " [ 10000      3]\n",
            " [ 10000      0]\n",
            " [ 30000      1]\n",
            " [ 70000      0]\n",
            " [ 90000      5]\n",
            " [ 20000      0]\n",
            " [ 20000      2]\n",
            " [ 20000      1]\n",
            " [ 30000      1]\n",
            " [ 70000      3]\n",
            " [ 30000      0]\n",
            " [ 20000      1]\n",
            " [ 40000      1]\n",
            " [ 30000      0]\n",
            " [ 10000      1]\n",
            " [ 60000      3]\n",
            " [ 40000      5]\n",
            " [ 60000      4]\n",
            " [ 40000      0]\n",
            " [ 70000      0]\n",
            " [ 30000      3]\n",
            " [100000      0]\n",
            " [ 40000      3]\n",
            " [ 10000      3]\n",
            " [ 30000      1]\n",
            " [ 50000      2]\n",
            " [ 60000      2]\n",
            " [ 40000      2]\n",
            " [ 70000      4]\n",
            " [ 40000      3]\n",
            " [ 60000      1]\n",
            " [ 10000      1]\n",
            " [ 70000      2]\n",
            " [ 70000      3]\n",
            " [ 30000      1]\n",
            " [ 60000      2]\n",
            " [ 60000      3]\n",
            " [100000      1]\n",
            " [ 70000      0]\n",
            " [ 60000      4]\n",
            " [ 40000      3]\n",
            " [ 90000      4]\n",
            " [120000      0]\n",
            " [ 60000      1]\n",
            " [ 90000      3]\n",
            " [ 70000      2]\n",
            " [ 60000      0]\n",
            " [ 10000      2]\n",
            " [ 10000      2]\n",
            " [100000      4]\n",
            " [ 60000      4]\n",
            " [ 70000      3]\n",
            " [ 80000      4]\n",
            " [ 30000      0]\n",
            " [ 60000      1]\n",
            " [ 30000      0]\n",
            " [ 60000      5]\n",
            " [ 20000      0]\n",
            " [ 40000      0]\n",
            " [ 60000      3]\n",
            " [100000      4]\n",
            " [ 70000      4]\n",
            " [ 60000      2]\n",
            " [ 80000      0]\n",
            " [ 60000      1]\n",
            " [130000      1]\n",
            " [ 30000      0]\n",
            " [ 30000      0]\n",
            " [ 70000      3]\n",
            " [ 50000      4]\n",
            " [ 90000      2]\n",
            " [ 20000      2]\n",
            " [ 80000      5]\n",
            " [ 30000      2]\n",
            " [120000      2]\n",
            " [ 40000      0]\n",
            " [ 80000      5]\n",
            " [ 70000      4]\n",
            " [ 20000      5]\n",
            " [ 40000      1]\n",
            " [ 20000      0]\n",
            " [ 40000      0]\n",
            " [ 60000      3]\n",
            " [ 40000      2]\n",
            " [ 40000      2]\n",
            " [ 50000      1]\n",
            " [ 40000      2]\n",
            " [ 60000      5]\n",
            " [ 50000      2]\n",
            " [ 40000      2]\n",
            " [ 40000      2]\n",
            " [ 60000      0]\n",
            " [ 70000      5]\n",
            " [ 30000      2]\n",
            " [ 30000      3]\n",
            " [ 50000      3]\n",
            " [ 30000      0]\n",
            " [ 60000      0]\n",
            " [ 10000      2]\n",
            " [ 60000      1]\n",
            " [ 40000      0]\n",
            " [150000      3]\n",
            " [ 80000      5]\n",
            " [ 30000      0]\n",
            " [ 80000      5]]\n"
          ]
        }
      ]
    },
    {
      "cell_type": "code",
      "source": [
        "print(y_train)"
      ],
      "metadata": {
        "colab": {
          "base_uri": "https://localhost:8080/"
        },
        "id": "D37oPza_jBS9",
        "outputId": "2140e428-f328-4e5c-ef52-8b8b9af475ac"
      },
      "execution_count": 68,
      "outputs": [
        {
          "output_type": "stream",
          "name": "stdout",
          "text": [
            "[1 0 1 0 0 0 1 0 0 0 1 1 1 1 0 1 1 1 0 1 0 0 0 1 1 0 0 0 1 0 1 0 0 1 0 1 1\n",
            " 1 0 0 0 0 0 0 0 0 0 1 0 1 0 1 1 1 1 0 1 0 1 0 0 1 0 1 1 1 0 0 0 1 1 1 0 0\n",
            " 1 0 0 1 0 1 1 0 1 1 0 1 1 1 0 0 0 1 0 0 0 0 0 1 1 0 0 1 1 1 1 0 1 0 0 1 1\n",
            " 0 1 0 1 0 1 1 1 1 1 1 0 0 1 1 1 0 0 1 1 1 1 1 0 0 1 1 0 0 1 1 0 0 0 0 0 1\n",
            " 0 1 1 1 1 0 0 1 1 0 0 0 0 0 0 0 1 1 0 0 0 1 1 1 1 1 0 0 0 1 0 1 0 0 1 1 1\n",
            " 0 0 1 0 0 0 1 0 0 0 0 0 0 0 0 1 0 1 0 1 1 0 1 1 0 0 1 1 1 1 1 1 0 0 1 0 1\n",
            " 1 0 1 1 1 1 0 1 0 0 1 1 0 1 0 0 0 0 1 0 0 0 1 0 0 1 1 0 0 1 1 1 0 0 0 1 0\n",
            " 1 1 1 0 0 1 0 0 0 0 0 1 0 1 0 0 0 1 1 0 1 0 0 0 0 0 1 0 1 0 1 0 1 0 0 1 0\n",
            " 1 1 0 0 1 1 0 0 0 0 0 0 1 0 0 1 0 0 1 0 0 0 0 1 1 1 0 1 1 0 1 0 0 0 1 0 1\n",
            " 1 1 1 1 1 0 0 0 0 0 1 1 1 0 0 1 0 1 0 1 1 1 1 0 0 0 0 0 0 1 1 0 0 1 0 0 1\n",
            " 0 1 0 1 0 0 0 0 1 1 1 0 1 0 0 1 0 1 0 0 0 0 0 0 0 0 1 1 0 1 0 1 1 0 1 0 0\n",
            " 1 0 1 1 1 1 1 1 1 1 0 1 0 0 0 0 1 0 1 0 0 0 0 0 0 0 1 0 0 1 0 0 1 1 0 0 0\n",
            " 0 1 0 0 0 1 1 1 1 0 1 0 1 1 1 1 0 0 1 1 1 1 0 1 0 1 1 1 1 0 0 1 0 1 1 0 1\n",
            " 1 0 0 1 1 1 1 0 1 0 0 0 1 0 0 0 1 0 0 0 1 0 1 1 0 0 1 1 0 1 0 0 0 1 0 1 1\n",
            " 0 0 0 0 1 1 0 1 1 1 1 1 1 1 1 1 1 1 0 1 0 0 1 0 1 0 1 1 1 0 1 0 0 0 0 0 1\n",
            " 0 1 0 0 0 1 0 0 1 1 1 1 0 1 1 1 0 0 0 0 0 0 0 0 0 0 0 1 0 1 0 1 0 0 1 0 0\n",
            " 0 1 1 0 1 1 1 1 1 0 1 1 0 0 0 0 1 1 1 1 0 1 0 0 1 0 1 1 1 1 1 0 1 1 1 1 0\n",
            " 0 0 1 0 0 0 0 0 0 0 1 0 0 1 0 1 0 0 0 1 1 0 1 1 1 1 1 1 1 1 1 1 1 1 0 1 0\n",
            " 0 1 1 1 1 0 1 1 0 1 0 0 0 1 0 1 1 0 1 0 1 0 0 1 0 0 1 0 0 1 1 0 0 0 0 0 0\n",
            " 1 0 1 0 1 1 0 0 0 0 1 0 0 0 1 1 0 0 0 1 0 0 0 1 0 0 0 0 1 1 0 1 1 1 1 1 1\n",
            " 0 1 0 1 1 1 0 0 0 0]\n"
          ]
        }
      ]
    },
    {
      "cell_type": "code",
      "source": [
        "print(y_test)"
      ],
      "metadata": {
        "colab": {
          "base_uri": "https://localhost:8080/"
        },
        "id": "XdaBRjnxjEDT",
        "outputId": "3074d61a-1ca5-46a7-a104-8897b70f7572"
      },
      "execution_count": 69,
      "outputs": [
        {
          "output_type": "stream",
          "name": "stdout",
          "text": [
            "[1 0 1 1 0 0 0 1 1 1 1 0 1 1 0 0 1 1 1 1 1 1 0 0 1 0 1 0 0 0 1 1 0 0 0 0 0\n",
            " 1 1 1 0 1 0 0 0 0 0 1 1 0 0 1 0 1 1 0 1 1 0 0 0 1 1 1 0 0 1 0 0 0 1 0 0 1\n",
            " 0 0 1 1 0 1 1 0 1 1 1 1 1 0 1 1 0 0 1 1 1 0 1 1 1 0 1 0 0 0 1 1 1 1 1 1 1\n",
            " 0 1 1 1 0 0 0 0 1 0 1 0 1 0 0 1 0 0 1 0 0 0 0 0 1 1 0 1 0 1 1 0 1 1 0 1 1\n",
            " 0 1 0 0 0 1 1 0 0 1 0 0 0 1 0 0 0 0 1 0 1 1 1 0 0 1 1 0 0 1 0 1 1 1 1 0 0\n",
            " 1 1 1 0 0 1 0 0 0 0 0 0 1 1 1 0 0 1 0 1 1 1 0 1 0 1 0 0 1 1 1 1 0 0 1 0 0\n",
            " 0 0 0 1 0 1 1 0 0 1 0 0 1 1 0 0 0 1 0 1 0 1 1 1 1 0 1 0]\n"
          ]
        }
      ]
    },
    {
      "cell_type": "code",
      "source": [
        "from sklearn.preprocessing import StandardScaler\n",
        "sc = StandardScaler()\n",
        "X_train = sc.fit_transform(X_train)\n",
        "X_test = sc.transform(X_test)"
      ],
      "metadata": {
        "id": "THszdQXKSuCl"
      },
      "execution_count": 70,
      "outputs": []
    },
    {
      "cell_type": "code",
      "source": [
        "print(X_train)"
      ],
      "metadata": {
        "colab": {
          "base_uri": "https://localhost:8080/"
        },
        "id": "MVpiXKC6jMJd",
        "outputId": "3d818a6d-ed05-4e37-8f07-903b3d4ee2a8"
      },
      "execution_count": 71,
      "outputs": [
        {
          "output_type": "stream",
          "name": "stdout",
          "text": [
            "[[ 1.37337992  0.67608533]\n",
            " [-0.51659245  1.89940017]\n",
            " [-1.46157863 -1.15888692]\n",
            " ...\n",
            " [-0.20159705 -0.5472295 ]\n",
            " [ 0.11339834  0.06442791]\n",
            " [ 0.11339834  1.28774275]]\n"
          ]
        }
      ]
    },
    {
      "cell_type": "code",
      "source": [
        "print(X_test)"
      ],
      "metadata": {
        "colab": {
          "base_uri": "https://localhost:8080/"
        },
        "id": "_pCFcwWnjO_y",
        "outputId": "4987110e-d584-448b-9229-47df1041e085"
      },
      "execution_count": 72,
      "outputs": [
        {
          "output_type": "stream",
          "name": "stdout",
          "text": [
            "[[ 2.9483569  -0.5472295 ]\n",
            " [-0.83158784  0.06442791]\n",
            " [ 1.05838453  1.28774275]\n",
            " [-0.51659245  0.67608533]\n",
            " [-0.51659245 -1.15888692]\n",
            " [ 0.11339834  0.06442791]\n",
            " [ 1.37337992 -1.15888692]\n",
            " [-0.51659245 -1.15888692]\n",
            " [ 1.05838453  0.06442791]\n",
            " [ 0.11339834 -1.15888692]\n",
            " [ 0.11339834  0.67608533]\n",
            " [-0.20159705  0.67608533]\n",
            " [-1.46157863  0.06442791]\n",
            " [-0.83158784 -1.15888692]\n",
            " [ 0.11339834  1.28774275]\n",
            " [ 0.74338913  1.28774275]\n",
            " [ 0.11339834 -0.5472295 ]\n",
            " [ 0.74338913  0.06442791]\n",
            " [ 0.11339834 -0.5472295 ]\n",
            " [ 0.74338913 -1.15888692]\n",
            " [-1.46157863 -1.15888692]\n",
            " [-0.51659245  0.06442791]\n",
            " [ 2.00337071  1.28774275]\n",
            " [ 0.11339834 -0.5472295 ]\n",
            " [ 0.11339834 -0.5472295 ]\n",
            " [-1.14658324  0.06442791]\n",
            " [-1.14658324 -0.5472295 ]\n",
            " [ 0.11339834 -0.5472295 ]\n",
            " [-1.14658324  0.67608533]\n",
            " [-0.83158784  0.67608533]\n",
            " [ 0.42839374  1.28774275]\n",
            " [ 0.11339834 -1.15888692]\n",
            " [ 1.37337992  0.67608533]\n",
            " [ 0.74338913  0.06442791]\n",
            " [-0.51659245  0.06442791]\n",
            " [-0.51659245 -1.15888692]\n",
            " [ 0.11339834 -1.15888692]\n",
            " [ 0.11339834 -0.5472295 ]\n",
            " [ 0.42839374 -1.15888692]\n",
            " [ 1.37337992  1.89940017]\n",
            " [ 2.00337071  1.28774275]\n",
            " [ 0.42839374  1.28774275]\n",
            " [-0.83158784  0.06442791]\n",
            " [-1.14658324  0.06442791]\n",
            " [ 2.31836611  1.28774275]\n",
            " [ 0.11339834  1.28774275]\n",
            " [-0.51659245 -1.15888692]\n",
            " [-1.46157863 -1.15888692]\n",
            " [-0.20159705  0.06442791]\n",
            " [ 2.31836611 -1.15888692]\n",
            " [-1.46157863 -1.15888692]\n",
            " [ 1.68837532 -1.15888692]\n",
            " [-1.46157863  0.06442791]\n",
            " [ 1.68837532 -1.15888692]\n",
            " [-0.20159705 -1.15888692]\n",
            " [ 0.74338913  1.28774275]\n",
            " [-1.46157863  1.28774275]\n",
            " [-1.46157863  0.06442791]\n",
            " [ 0.11339834  0.67608533]\n",
            " [-0.83158784  0.67608533]\n",
            " [-0.20159705  0.67608533]\n",
            " [ 0.42839374  0.67608533]\n",
            " [-0.51659245 -0.5472295 ]\n",
            " [-0.51659245  0.06442791]\n",
            " [-0.83158784  0.06442791]\n",
            " [-0.20159705 -1.15888692]\n",
            " [-0.51659245 -1.15888692]\n",
            " [-0.83158784 -1.15888692]\n",
            " [ 0.11339834 -1.15888692]\n",
            " [-0.51659245 -1.15888692]\n",
            " [-0.51659245  0.06442791]\n",
            " [-0.83158784  0.06442791]\n",
            " [-0.51659245  1.28774275]\n",
            " [ 1.37337992 -1.15888692]\n",
            " [-0.51659245  0.06442791]\n",
            " [-0.51659245  0.06442791]\n",
            " [ 0.74338913 -1.15888692]\n",
            " [ 0.42839374  1.89940017]\n",
            " [ 0.74338913  1.28774275]\n",
            " [-0.51659245 -1.15888692]\n",
            " [-0.51659245 -0.5472295 ]\n",
            " [ 2.00337071  0.67608533]\n",
            " [ 2.00337071 -1.15888692]\n",
            " [-0.51659245  0.06442791]\n",
            " [ 0.11339834 -1.15888692]\n",
            " [ 0.11339834  1.28774275]\n",
            " [-0.83158784  1.89940017]\n",
            " [-0.20159705 -1.15888692]\n",
            " [ 0.42839374 -0.5472295 ]\n",
            " [-0.83158784 -0.5472295 ]\n",
            " [-0.83158784  0.06442791]\n",
            " [ 0.42839374  1.28774275]\n",
            " [ 0.42839374  0.67608533]\n",
            " [-0.83158784 -0.5472295 ]\n",
            " [ 0.42839374  0.67608533]\n",
            " [-0.83158784  0.06442791]\n",
            " [ 0.42839374 -0.5472295 ]\n",
            " [-0.51659245 -1.15888692]\n",
            " [ 2.31836611  0.67608533]\n",
            " [ 0.11339834  1.89940017]\n",
            " [-0.51659245 -1.15888692]\n",
            " [-0.20159705  0.67608533]\n",
            " [-0.83158784  0.06442791]\n",
            " [ 0.74338913  0.67608533]\n",
            " [-0.83158784 -1.15888692]\n",
            " [ 2.00337071  1.28774275]\n",
            " [ 0.11339834 -0.5472295 ]\n",
            " [ 0.11339834  0.06442791]\n",
            " [ 1.05838453  1.89940017]\n",
            " [-0.83158784 -0.5472295 ]\n",
            " [-0.51659245 -0.5472295 ]\n",
            " [ 0.11339834  0.67608533]\n",
            " [-0.83158784  0.67608533]\n",
            " [ 0.74338913  0.67608533]\n",
            " [-0.83158784  0.67608533]\n",
            " [-0.83158784  0.67608533]\n",
            " [ 0.11339834 -1.15888692]\n",
            " [ 0.74338913  1.28774275]\n",
            " [-1.14658324 -1.15888692]\n",
            " [ 0.11339834  1.28774275]\n",
            " [ 0.11339834  0.06442791]\n",
            " [ 0.11339834  0.06442791]\n",
            " [ 0.74338913 -1.15888692]\n",
            " [ 1.05838453  1.89940017]\n",
            " [-1.46157863 -0.5472295 ]\n",
            " [-0.51659245  1.89940017]\n",
            " [-0.51659245 -0.5472295 ]\n",
            " [ 0.42839374  1.89940017]\n",
            " [ 0.74338913  0.06442791]\n",
            " [ 0.11339834  0.67608533]\n",
            " [ 0.11339834  0.06442791]\n",
            " [-0.51659245 -1.15888692]\n",
            " [ 1.05838453  1.28774275]\n",
            " [ 0.42839374  0.06442791]\n",
            " [-0.51659245 -1.15888692]\n",
            " [ 0.42839374 -1.15888692]\n",
            " [-1.14658324  1.28774275]\n",
            " [-1.14658324  0.06442791]\n",
            " [ 0.11339834  0.06442791]\n",
            " [-0.83158784 -1.15888692]\n",
            " [ 0.11339834  0.67608533]\n",
            " [ 0.11339834  1.28774275]\n",
            " [ 1.37337992 -0.5472295 ]\n",
            " [ 0.42839374 -1.15888692]\n",
            " [ 1.37337992 -1.15888692]\n",
            " [-1.46157863  0.67608533]\n",
            " [-1.46157863 -1.15888692]\n",
            " [-0.83158784 -0.5472295 ]\n",
            " [ 0.42839374 -1.15888692]\n",
            " [ 1.05838453  1.89940017]\n",
            " [-1.14658324 -1.15888692]\n",
            " [-1.14658324  0.06442791]\n",
            " [-1.14658324 -0.5472295 ]\n",
            " [-0.83158784 -0.5472295 ]\n",
            " [ 0.42839374  0.67608533]\n",
            " [-0.83158784 -1.15888692]\n",
            " [-1.14658324 -0.5472295 ]\n",
            " [-0.51659245 -0.5472295 ]\n",
            " [-0.83158784 -1.15888692]\n",
            " [-1.46157863 -0.5472295 ]\n",
            " [ 0.11339834  0.67608533]\n",
            " [-0.51659245  1.89940017]\n",
            " [ 0.11339834  1.28774275]\n",
            " [-0.51659245 -1.15888692]\n",
            " [ 0.42839374 -1.15888692]\n",
            " [-0.83158784  0.67608533]\n",
            " [ 1.37337992 -1.15888692]\n",
            " [-0.51659245  0.67608533]\n",
            " [-1.46157863  0.67608533]\n",
            " [-0.83158784 -0.5472295 ]\n",
            " [-0.20159705  0.06442791]\n",
            " [ 0.11339834  0.06442791]\n",
            " [-0.51659245  0.06442791]\n",
            " [ 0.42839374  1.28774275]\n",
            " [-0.51659245  0.67608533]\n",
            " [ 0.11339834 -0.5472295 ]\n",
            " [-1.46157863 -0.5472295 ]\n",
            " [ 0.42839374  0.06442791]\n",
            " [ 0.42839374  0.67608533]\n",
            " [-0.83158784 -0.5472295 ]\n",
            " [ 0.11339834  0.06442791]\n",
            " [ 0.11339834  0.67608533]\n",
            " [ 1.37337992 -0.5472295 ]\n",
            " [ 0.42839374 -1.15888692]\n",
            " [ 0.11339834  1.28774275]\n",
            " [-0.51659245  0.67608533]\n",
            " [ 1.05838453  1.28774275]\n",
            " [ 2.00337071 -1.15888692]\n",
            " [ 0.11339834 -0.5472295 ]\n",
            " [ 1.05838453  0.67608533]\n",
            " [ 0.42839374  0.06442791]\n",
            " [ 0.11339834 -1.15888692]\n",
            " [-1.46157863  0.06442791]\n",
            " [-1.46157863  0.06442791]\n",
            " [ 1.37337992  1.28774275]\n",
            " [ 0.11339834  1.28774275]\n",
            " [ 0.42839374  0.67608533]\n",
            " [ 0.74338913  1.28774275]\n",
            " [-0.83158784 -1.15888692]\n",
            " [ 0.11339834 -0.5472295 ]\n",
            " [-0.83158784 -1.15888692]\n",
            " [ 0.11339834  1.89940017]\n",
            " [-1.14658324 -1.15888692]\n",
            " [-0.51659245 -1.15888692]\n",
            " [ 0.11339834  0.67608533]\n",
            " [ 1.37337992  1.28774275]\n",
            " [ 0.42839374  1.28774275]\n",
            " [ 0.11339834  0.06442791]\n",
            " [ 0.74338913 -1.15888692]\n",
            " [ 0.11339834 -0.5472295 ]\n",
            " [ 2.31836611 -0.5472295 ]\n",
            " [-0.83158784 -1.15888692]\n",
            " [-0.83158784 -1.15888692]\n",
            " [ 0.42839374  0.67608533]\n",
            " [-0.20159705  1.28774275]\n",
            " [ 1.05838453  0.06442791]\n",
            " [-1.14658324  0.06442791]\n",
            " [ 0.74338913  1.89940017]\n",
            " [-0.83158784  0.06442791]\n",
            " [ 2.00337071  0.06442791]\n",
            " [-0.51659245 -1.15888692]\n",
            " [ 0.74338913  1.89940017]\n",
            " [ 0.42839374  1.28774275]\n",
            " [-1.14658324  1.89940017]\n",
            " [-0.51659245 -0.5472295 ]\n",
            " [-1.14658324 -1.15888692]\n",
            " [-0.51659245 -1.15888692]\n",
            " [ 0.11339834  0.67608533]\n",
            " [-0.51659245  0.06442791]\n",
            " [-0.51659245  0.06442791]\n",
            " [-0.20159705 -0.5472295 ]\n",
            " [-0.51659245  0.06442791]\n",
            " [ 0.11339834  1.89940017]\n",
            " [-0.20159705  0.06442791]\n",
            " [-0.51659245  0.06442791]\n",
            " [-0.51659245  0.06442791]\n",
            " [ 0.11339834 -1.15888692]\n",
            " [ 0.42839374  1.89940017]\n",
            " [-0.83158784  0.06442791]\n",
            " [-0.83158784  0.67608533]\n",
            " [-0.20159705  0.67608533]\n",
            " [-0.83158784 -1.15888692]\n",
            " [ 0.11339834 -1.15888692]\n",
            " [-1.46157863  0.06442791]\n",
            " [ 0.11339834 -0.5472295 ]\n",
            " [-0.51659245 -1.15888692]\n",
            " [ 2.9483569   0.67608533]\n",
            " [ 0.74338913  1.89940017]\n",
            " [-0.83158784 -1.15888692]\n",
            " [ 0.74338913  1.89940017]]\n"
          ]
        }
      ]
    },
    {
      "cell_type": "code",
      "source": [
        "from sklearn.naive_bayes import GaussianNB\n",
        "classifier = GaussianNB()\n",
        "classifier.fit(X_train, y_train)"
      ],
      "metadata": {
        "id": "sMARFWLATCCn",
        "colab": {
          "base_uri": "https://localhost:8080/"
        },
        "outputId": "f5f9a3ca-cd4d-4492-a9bd-bb1b39a00e74"
      },
      "execution_count": 73,
      "outputs": [
        {
          "output_type": "execute_result",
          "data": {
            "text/plain": [
              "GaussianNB()"
            ]
          },
          "metadata": {},
          "execution_count": 73
        }
      ]
    },
    {
      "cell_type": "code",
      "source": [
        "y_pred = classifier.predict(X_test)"
      ],
      "metadata": {
        "id": "rg3CTFcid6_3"
      },
      "execution_count": 74,
      "outputs": []
    },
    {
      "cell_type": "code",
      "source": [
        "from sklearn.metrics import confusion_matrix\n",
        "cm = confusion_matrix(y_test, y_pred)\n",
        "print(cm)"
      ],
      "metadata": {
        "colab": {
          "base_uri": "https://localhost:8080/"
        },
        "id": "Zo7S08Q-eBpy",
        "outputId": "71de1cdc-66de-4f6b-e9dd-86f98311f3a9"
      },
      "execution_count": 75,
      "outputs": [
        {
          "output_type": "stream",
          "name": "stdout",
          "text": [
            "[[55 70]\n",
            " [47 78]]\n"
          ]
        }
      ]
    },
    {
      "cell_type": "code",
      "source": [
        "from matplotlib.colors import ListedColormap\n",
        "X_set, y_set = X_train, y_train\n",
        "X1, X2 = np.meshgrid(np.arange(start = X_set[:, 0].min() - 1, stop = X_set[:, 0].max() + 1, step = 0.01),\n",
        "                     np.arange(start = X_set[:, 1].min() - 1, stop = X_set[:, 1].max() + 1, step = 0.01))\n",
        "plt.contourf(X1, X2, classifier.predict(np.array([X1.ravel(), X2.ravel()]).T).reshape(X1.shape),\n",
        "             alpha = 0.75, cmap = ListedColormap(('red', 'green')))\n",
        "plt.xlim(X1.min(), X1.max())\n",
        "plt.ylim(X2.min(), X2.max())\n",
        "for i, j in enumerate(np.unique(y_set)):\n",
        "  plt.scatter(X_set[y_set == j, 0], X_set[y_set == j, 1],\n",
        "              c = ListedColormap(('red', 'green'))(i), label = j)\n",
        "plt.title('Naive Bayes (Training set)')\n",
        "plt.xlabel('Income')\n",
        "plt.ylabel('Children')\n",
        "plt.legend()\n",
        "plt.show()"
      ],
      "metadata": {
        "colab": {
          "base_uri": "https://localhost:8080/",
          "height": 350
        },
        "id": "fuRHcuYaeNuY",
        "outputId": "8c009182-2b70-4fcc-dadc-a41e59f72076"
      },
      "execution_count": 78,
      "outputs": [
        {
          "output_type": "stream",
          "name": "stderr",
          "text": [
            "*c* argument looks like a single numeric RGB or RGBA sequence, which should be avoided as value-mapping will have precedence in case its length matches with *x* & *y*.  Please use the *color* keyword-argument or provide a 2-D array with a single row if you intend to specify the same RGB or RGBA value for all points.\n",
            "*c* argument looks like a single numeric RGB or RGBA sequence, which should be avoided as value-mapping will have precedence in case its length matches with *x* & *y*.  Please use the *color* keyword-argument or provide a 2-D array with a single row if you intend to specify the same RGB or RGBA value for all points.\n"
          ]
        },
        {
          "output_type": "display_data",
          "data": {
            "text/plain": [
              "<Figure size 432x288 with 1 Axes>"
            ],
            "image/png": "[encoded data removed]"
          },
          "metadata": {
            "needs_background": "light"
          }
        }
      ]
    },
    {
      "cell_type": "code",
      "source": [
        "from matplotlib.colors import ListedColormap\n",
        "X_set, y_set = X_test, y_test\n",
        "X1, X2 = np.meshgrid(np.arange(start = X_set[:, 0].min() - 1, stop = X_set[:, 0].max() + 1, step = 0.01),\n",
        "                     np.arange(start = X_set[:, 1].min() - 1, stop = X_set[:, 1].max() + 1, step = 0.01))\n",
        "plt.contourf(X1, X2, classifier.predict(np.array([X1.ravel(), X2.ravel()]).T).reshape(X1.shape),\n",
        "             alpha = 0.75, cmap = ListedColormap(('red', 'green')))\n",
        "plt.xlim(X1.min(), X1.max())\n",
        "plt.ylim(X2.min(), X2.max())\n",
        "for i, j in enumerate(np.unique(y_set)):\n",
        "  plt.scatter(X_set[y_set == j, 0], X_set[y_set == j, 1],\n",
        "              c = ListedColormap(('red', 'green'))(i), label = j)\n",
        "plt.title('Naive Bayes (Test set)')\n",
        "plt.xlabel('Income')\n",
        "plt.ylabel('Children')\n",
        "plt.legend()\n",
        "plt.show()"
      ],
      "metadata": {
        "colab": {
          "base_uri": "https://localhost:8080/",
          "height": 350
        },
        "id": "kCsCv2izgq4N",
        "outputId": "b0b6b806-ecba-432f-c6ec-c9044488bd0d"
      },
      "execution_count": 79,
      "outputs": [
        {
          "output_type": "stream",
          "name": "stderr",
          "text": [
            "*c* argument looks like a single numeric RGB or RGBA sequence, which should be avoided as value-mapping will have precedence in case its length matches with *x* & *y*.  Please use the *color* keyword-argument or provide a 2-D array with a single row if you intend to specify the same RGB or RGBA value for all points.\n",
            "*c* argument looks like a single numeric RGB or RGBA sequence, which should be avoided as value-mapping will have precedence in case its length matches with *x* & *y*.  Please use the *color* keyword-argument or provide a 2-D array with a single row if you intend to specify the same RGB or RGBA value for all points.\n"
          ]
        },
        {
          "output_type": "display_data",
          "data": {
            "text/plain": [
              "<Figure size 432x288 with 1 Axes>"
            ],
            "image/png": "[encoded data removed]"
          },
          "metadata": {
            "needs_background": "light"
          }
        }
      ]
    }
  ]
}