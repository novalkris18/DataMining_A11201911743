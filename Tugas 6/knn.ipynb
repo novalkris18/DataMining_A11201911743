{
  "nbformat": 4,
  "nbformat_minor": 0,
  "metadata": {
    "colab": {
      "name": "knn.ipynb",
      "provenance": [],
      "collapsed_sections": []
    },
    "kernelspec": {
      "name": "python3",
      "display_name": "Python 3"
    },
    "language_info": {
      "name": "python"
    }
  },
  "cells": [
    {
      "cell_type": "code",
      "execution_count": 20,
      "metadata": {
        "id": "JECMG_rAOcOQ"
      },
      "outputs": [],
      "source": [
        "import numpy as np\n",
        "import matplotlib.pyplot as plt\n",
        "import pandas as pd"
      ]
    },
    {
      "cell_type": "code",
      "source": [
        "dataset = pd.read_csv('bike_buyers_clean.csv')\n",
        "X = dataset.iloc[:, [3, 4]].values\n",
        "y = dataset.iloc[:, -1].values"
      ],
      "metadata": {
        "id": "KuEbZuaNPRRO"
      },
      "execution_count": 21,
      "outputs": []
    },
    {
      "cell_type": "code",
      "source": [
        "dataset.head()"
      ],
      "metadata": {
        "colab": {
          "base_uri": "https://localhost:8080/",
          "height": 206
        },
        "id": "2Sp2jxPfGEGE",
        "outputId": "5599597e-80db-47ef-fb58-d54a4538c35a"
      },
      "execution_count": 22,
      "outputs": [
        {
          "output_type": "execute_result",
          "data": {
            "text/plain": [
              "      ID Marital Status  Gender  Income  Children        Education  \\\n",
              "0  12496        Married  Female   40000         1        Bachelors   \n",
              "1  24107        Married    Male   30000         3  Partial College   \n",
              "2  14177        Married    Male   80000         5  Partial College   \n",
              "3  24381         Single    Male   70000         0        Bachelors   \n",
              "4  25597         Single    Male   30000         0        Bachelors   \n",
              "\n",
              "       Occupation  Home Owner  Cars Commute Distance   Region  Age  \\\n",
              "0  Skilled Manual           1     0        0-1 Miles   Europe   42   \n",
              "1        Clerical           1     1        0-1 Miles   Europe   43   \n",
              "2    Professional           0     2        2-5 Miles   Europe   60   \n",
              "3    Professional           1     1       5-10 Miles  Pacific   41   \n",
              "4        Clerical           0     0        0-1 Miles   Europe   36   \n",
              "\n",
              "   Purchased Bike  \n",
              "0               0  \n",
              "1               0  \n",
              "2               0  \n",
              "3               1  \n",
              "4               1  "
            ],
            "text/html": [
              "\n",
              "  <div id=\"df-9dfa2570-0bfe-4801-97f8-c45ddfd34f56\">\n",
              "    <div class=\"colab-df-container\">\n",
              "      <div>\n",
              "<style scoped>\n",
              "    .dataframe tbody tr th:only-of-type {\n",
              "        vertical-align: middle;\n",
              "    }\n",
              "\n",
              "    .dataframe tbody tr th {\n",
              "        vertical-align: top;\n",
              "    }\n",
              "\n",
              "    .dataframe thead th {\n",
              "        text-align: right;\n",
              "    }\n",
              "</style>\n",
              "<table border=\"1\" class=\"dataframe\">\n",
              "  <thead>\n",
              "    <tr style=\"text-align: right;\">\n",
              "      <th></th>\n",
              "      <th>ID</th>\n",
              "      <th>Marital Status</th>\n",
              "      <th>Gender</th>\n",
              "      <th>Income</th>\n",
              "      <th>Children</th>\n",
              "      <th>Education</th>\n",
              "      <th>Occupation</th>\n",
              "      <th>Home Owner</th>\n",
              "      <th>Cars</th>\n",
              "      <th>Commute Distance</th>\n",
              "      <th>Region</th>\n",
              "      <th>Age</th>\n",
              "      <th>Purchased Bike</th>\n",
              "    </tr>\n",
              "  </thead>\n",
              "  <tbody>\n",
              "    <tr>\n",
              "      <th>0</th>\n",
              "      <td>12496</td>\n",
              "      <td>Married</td>\n",
              "      <td>Female</td>\n",
              "      <td>40000</td>\n",
              "      <td>1</td>\n",
              "      <td>Bachelors</td>\n",
              "      <td>Skilled Manual</td>\n",
              "      <td>1</td>\n",
              "      <td>0</td>\n",
              "      <td>0-1 Miles</td>\n",
              "      <td>Europe</td>\n",
              "      <td>42</td>\n",
              "      <td>0</td>\n",
              "    </tr>\n",
              "    <tr>\n",
              "      <th>1</th>\n",
              "      <td>24107</td>\n",
              "      <td>Married</td>\n",
              "      <td>Male</td>\n",
              "      <td>30000</td>\n",
              "      <td>3</td>\n",
              "      <td>Partial College</td>\n",
              "      <td>Clerical</td>\n",
              "      <td>1</td>\n",
              "      <td>1</td>\n",
              "      <td>0-1 Miles</td>\n",
              "      <td>Europe</td>\n",
              "      <td>43</td>\n",
              "      <td>0</td>\n",
              "    </tr>\n",
              "    <tr>\n",
              "      <th>2</th>\n",
              "      <td>14177</td>\n",
              "      <td>Married</td>\n",
              "      <td>Male</td>\n",
              "      <td>80000</td>\n",
              "      <td>5</td>\n",
              "      <td>Partial College</td>\n",
              "      <td>Professional</td>\n",
              "      <td>0</td>\n",
              "      <td>2</td>\n",
              "      <td>2-5 Miles</td>\n",
              "      <td>Europe</td>\n",
              "      <td>60</td>\n",
              "      <td>0</td>\n",
              "    </tr>\n",
              "    <tr>\n",
              "      <th>3</th>\n",
              "      <td>24381</td>\n",
              "      <td>Single</td>\n",
              "      <td>Male</td>\n",
              "      <td>70000</td>\n",
              "      <td>0</td>\n",
              "      <td>Bachelors</td>\n",
              "      <td>Professional</td>\n",
              "      <td>1</td>\n",
              "      <td>1</td>\n",
              "      <td>5-10 Miles</td>\n",
              "      <td>Pacific</td>\n",
              "      <td>41</td>\n",
              "      <td>1</td>\n",
              "    </tr>\n",
              "    <tr>\n",
              "      <th>4</th>\n",
              "      <td>25597</td>\n",
              "      <td>Single</td>\n",
              "      <td>Male</td>\n",
              "      <td>30000</td>\n",
              "      <td>0</td>\n",
              "      <td>Bachelors</td>\n",
              "      <td>Clerical</td>\n",
              "      <td>0</td>\n",
              "      <td>0</td>\n",
              "      <td>0-1 Miles</td>\n",
              "      <td>Europe</td>\n",
              "      <td>36</td>\n",
              "      <td>1</td>\n",
              "    </tr>\n",
              "  </tbody>\n",
              "</table>\n",
              "</div>\n",
              "      <button class=\"colab-df-convert\" onclick=\"convertToInteractive('df-9dfa2570-0bfe-4801-97f8-c45ddfd34f56')\"\n",
              "              title=\"Convert this dataframe to an interactive table.\"\n",
              "              style=\"display:none;\">\n",
              "        \n",
              "  <svg xmlns=\"http://www.w3.org/2000/svg\" height=\"24px\"viewBox=\"0 0 24 24\"\n",
              "       width=\"24px\">\n",
              "    <path d=\"M0 0h24v24H0V0z\" fill=\"none\"/>\n",
              "    <path d=\"M18.56 5.44l.94 2.06.94-2.06 2.06-.94-2.06-.94-.94-2.06-.94 2.06-2.06.94zm-11 1L8.5 8.5l.94-2.06 2.06-.94-2.06-.94L8.5 2.5l-.94 2.06-2.06.94zm10 10l.94 2.06.94-2.06 2.06-.94-2.06-.94-.94-2.06-.94 2.06-2.06.94z\"/><path d=\"M17.41 7.96l-1.37-1.37c-.4-.4-.92-.59-1.43-.59-.52 0-1.04.2-1.43.59L10.3 9.45l-7.72 7.72c-.78.78-.78 2.05 0 2.83L4 21.41c.39.39.9.59 1.41.59.51 0 1.02-.2 1.41-.59l7.78-7.78 2.81-2.81c.8-.78.8-2.07 0-2.86zM5.41 20L4 18.59l7.72-7.72 1.47 1.35L5.41 20z\"/>\n",
              "  </svg>\n",
              "      </button>\n",
              "      \n",
              "  <style>\n",
              "    .colab-df-container {\n",
              "      display:flex;\n",
              "      flex-wrap:wrap;\n",
              "      gap: 12px;\n",
              "    }\n",
              "\n",
              "    .colab-df-convert {\n",
              "      background-color: #E8F0FE;\n",
              "      border: none;\n",
              "      border-radius: 50%;\n",
              "      cursor: pointer;\n",
              "      display: none;\n",
              "      fill: #1967D2;\n",
              "      height: 32px;\n",
              "      padding: 0 0 0 0;\n",
              "      width: 32px;\n",
              "    }\n",
              "\n",
              "    .colab-df-convert:hover {\n",
              "      background-color: #E2EBFA;\n",
              "      box-shadow: 0px 1px 2px rgba(60, 64, 67, 0.3), 0px 1px 3px 1px rgba(60, 64, 67, 0.15);\n",
              "      fill: #174EA6;\n",
              "    }\n",
              "\n",
              "    [theme=dark] .colab-df-convert {\n",
              "      background-color: #3B4455;\n",
              "      fill: #D2E3FC;\n",
              "    }\n",
              "\n",
              "    [theme=dark] .colab-df-convert:hover {\n",
              "      background-color: #434B5C;\n",
              "      box-shadow: 0px 1px 3px 1px rgba(0, 0, 0, 0.15);\n",
              "      filter: drop-shadow(0px 1px 2px rgba(0, 0, 0, 0.3));\n",
              "      fill: #FFFFFF;\n",
              "    }\n",
              "  </style>\n",
              "\n",
              "      <script>\n",
              "        const buttonEl =\n",
              "          document.querySelector('#df-9dfa2570-0bfe-4801-97f8-c45ddfd34f56 button.colab-df-convert');\n",
              "        buttonEl.style.display =\n",
              "          google.colab.kernel.accessAllowed ? 'block' : 'none';\n",
              "\n",
              "        async function convertToInteractive(key) {\n",
              "          const element = document.querySelector('#df-9dfa2570-0bfe-4801-97f8-c45ddfd34f56');\n",
              "          const dataTable =\n",
              "            await google.colab.kernel.invokeFunction('convertToInteractive',\n",
              "                                                     [key], {});\n",
              "          if (!dataTable) return;\n",
              "\n",
              "          const docLinkHtml = 'Like what you see? Visit the ' +\n",
              "            '<a target=\"_blank\" href=https://colab.research.google.com/notebooks/data_table.ipynb>data table notebook</a>'\n",
              "            + ' to learn more about interactive tables.';\n",
              "          element.innerHTML = '';\n",
              "          dataTable['output_type'] = 'display_data';\n",
              "          await google.colab.output.renderOutput(dataTable, element);\n",
              "          const docLink = document.createElement('div');\n",
              "          docLink.innerHTML = docLinkHtml;\n",
              "          element.appendChild(docLink);\n",
              "        }\n",
              "      </script>\n",
              "    </div>\n",
              "  </div>\n",
              "  "
            ]
          },
          "metadata": {},
          "execution_count": 22
        }
      ]
    },
    {
      "cell_type": "code",
      "source": [
        "print(X)"
      ],
      "metadata": {
        "colab": {
          "base_uri": "https://localhost:8080/"
        },
        "id": "6C5HtnZtPf1M",
        "outputId": "5ce97132-04c9-4510-f45f-72e35063d686"
      },
      "execution_count": 23,
      "outputs": [
        {
          "output_type": "stream",
          "name": "stdout",
          "text": [
            "[[ 40000      1]\n",
            " [ 30000      3]\n",
            " [ 80000      5]\n",
            " ...\n",
            " [ 60000      2]\n",
            " [100000      3]\n",
            " [ 60000      3]]\n"
          ]
        }
      ]
    },
    {
      "cell_type": "code",
      "source": [
        "print(y)"
      ],
      "metadata": {
        "colab": {
          "base_uri": "https://localhost:8080/"
        },
        "id": "IwSuI_oXPqtM",
        "outputId": "5d396ee7-ae3a-4d58-af75-e17118c95bd2"
      },
      "execution_count": 24,
      "outputs": [
        {
          "output_type": "stream",
          "name": "stdout",
          "text": [
            "[0 0 0 1 1 0 1 1 0 1 1 0 0 1 1 1 1 0 1 1 1 0 1 0 0 0 1 0 0 1 0 1 0 1 1 0 1\n",
            " 0 0 1 0 1 0 1 1 1 1 1 0 1 0 0 0 0 0 0 1 1 1 1 0 0 1 0 1 0 1 1 1 0 1 0 0 1\n",
            " 0 0 0 1 1 1 1 0 1 0 1 1 1 0 0 1 1 1 1 0 0 0 0 1 1 0 0 1 0 0 1 0 1 1 1 1 1\n",
            " 0 0 1 1 1 0 1 0 0 1 0 0 0 1 0 0 0 1 1 0 1 1 1 0 0 1 0 1 1 1 1 1 0 1 0 1 1\n",
            " 0 0 1 0 0 0 0 1 0 0 1 0 1 1 1 0 1 0 1 0 1 0 1 0 0 0 1 1 1 0 1 1 0 1 0 1 0\n",
            " 1 1 0 1 1 0 1 0 0 0 1 0 1 1 1 0 1 1 1 0 1 0 1 1 1 0 1 0 1 1 1 0 0 0 1 1 0\n",
            " 0 0 0 0 1 0 0 0 0 1 0 1 1 1 1 1 0 1 0 0 1 0 1 1 1 1 0 1 1 0 0 1 0 1 0 1 0\n",
            " 1 0 1 0 0 1 0 0 1 0 1 1 0 1 0 1 1 0 1 1 1 0 0 0 0 0 0 0 1 0 1 1 1 1 1 1 1\n",
            " 1 1 1 0 0 1 1 0 1 0 1 0 1 1 0 0 1 1 1 0 1 1 0 0 1 1 1 1 1 1 1 0 0 0 0 0 1\n",
            " 1 0 0 0 0 1 0 0 1 0 0 1 1 1 1 0 1 1 1 0 1 0 0 1 0 1 0 1 1 1 1 1 1 1 1 1 1\n",
            " 0 0 1 0 0 0 1 1 0 0 1 0 0 1 1 0 1 1 0 1 0 1 0 0 1 1 1 0 1 1 0 0 0 0 1 1 0\n",
            " 1 0 0 1 0 0 0 1 0 1 0 1 1 0 0 1 1 0 0 0 1 0 0 0 1 1 0 1 0 1 1 1 0 1 1 1 1\n",
            " 0 1 0 1 0 0 1 0 0 0 0 1 0 0 1 0 1 1 1 0 1 0 1 1 0 0 0 1 1 1 1 0 1 1 1 1 0\n",
            " 1 1 0 1 0 0 0 0 0 0 0 1 1 0 0 1 1 1 1 0 0 0 1 1 0 1 1 0 1 1 1 1 1 0 0 0 1\n",
            " 1 0 0 1 1 1 0 1 0 0 0 1 1 0 1 0 0 0 1 1 0 1 0 0 0 0 0 0 1 1 0 1 1 0 1 1 1\n",
            " 1 0 0 0 0 0 0 1 0 0 1 0 1 1 0 0 0 0 0 1 0 0 0 0 0 0 0 0 0 1 1 0 0 1 0 1 1\n",
            " 0 1 0 0 0 1 0 1 0 0 1 1 0 1 0 1 1 0 0 1 0 1 0 1 0 1 0 0 1 0 0 0 1 0 0 0 1\n",
            " 0 0 0 0 1 0 0 1 0 1 0 1 0 1 1 0 0 0 0 1 1 1 1 0 1 1 0 0 0 1 0 1 1 0 0 1 0\n",
            " 1 0 0 0 0 1 0 1 0 0 0 0 0 0 0 0 0 0 0 1 1 0 0 0 0 1 1 1 1 0 0 0 0 1 0 0 1\n",
            " 0 1 0 1 1 0 0 1 0 0 0 1 1 0 1 1 0 1 1 0 0 0 1 0 1 0 1 1 1 1 0 1 0 0 0 1 0\n",
            " 0 1 0 0 0 1 0 0 0 0 0 0 0 0 1 0 1 1 0 1 0 0 1 1 0 1 0 1 0 0 0 1 1 0 1 0 1\n",
            " 0 0 1 0 0 1 0 1 1 0 1 0 1 0 1 0 1 0 0 1 1 1 1 1 0 0 1 1 0 0 1 1 0 1 0 0 0\n",
            " 1 0 1 1 0 0 0 1 0 1 1 1 1 1 0 0 0 1 0 1 1 1 0 0 1 1 0 0 1 0 0 0 0 0 1 0 0\n",
            " 1 1 1 0 0 0 1 0 0 0 1 1 1 0 1 0 0 1 0 0 0 1 0 1 1 0 0 0 0 1 1 0 1 0 0 0 0\n",
            " 0 1 0 1 1 0 1 1 1 0 1 0 1 1 0 0 1 1 1 0 1 1 0 0 0 1 0 0 1 1 1 0 0 1 1 1 1\n",
            " 1 0 0 0 0 0 1 1 0 0 1 0 1 0 0 0 1 0 0 1 1 1 1 0 0 0 0 0 1 1 0 1 0 1 1 0 0\n",
            " 0 1 0 0 1 0 0 0 0 0 0 0 1 1 0 0 0 0 1 0 1 0 1 0 1 0 0 0 0 1 1 1 0 1 1 1 0\n",
            " 1]\n"
          ]
        }
      ]
    },
    {
      "cell_type": "code",
      "source": [
        "from sklearn.model_selection import train_test_split\n",
        "X_train, X_test, y_train, y_test = train_test_split(X, y, test_size = 0.25, random_state = 0)"
      ],
      "metadata": {
        "id": "LwhGHZD1Ps_U"
      },
      "execution_count": 25,
      "outputs": []
    },
    {
      "cell_type": "code",
      "source": [
        "print(X_train)"
      ],
      "metadata": {
        "colab": {
          "base_uri": "https://localhost:8080/"
        },
        "id": "0U5TWv3OPxlF",
        "outputId": "276e73f1-aca3-4c09-a7ee-f8b73e37d573"
      },
      "execution_count": 26,
      "outputs": [
        {
          "output_type": "stream",
          "name": "stdout",
          "text": [
            "[[100000      3]\n",
            " [ 40000      5]\n",
            " [ 10000      0]\n",
            " ...\n",
            " [ 50000      1]\n",
            " [ 60000      2]\n",
            " [ 60000      4]]\n"
          ]
        }
      ]
    },
    {
      "cell_type": "code",
      "source": [
        "print(X_test)"
      ],
      "metadata": {
        "colab": {
          "base_uri": "https://localhost:8080/"
        },
        "id": "_IZwSOJOP1X9",
        "outputId": "19fb0c48-d717-4b3f-b6f5-ec6718d5c447"
      },
      "execution_count": 27,
      "outputs": [
        {
          "output_type": "stream",
          "name": "stdout",
          "text": [
            "[[150000      1]\n",
            " [ 30000      2]\n",
            " [ 90000      4]\n",
            " [ 40000      3]\n",
            " [ 40000      0]\n",
            " [ 60000      2]\n",
            " [100000      0]\n",
            " [ 40000      0]\n",
            " [ 90000      2]\n",
            " [ 60000      0]\n",
            " [ 60000      3]\n",
            " [ 50000      3]\n",
            " [ 10000      2]\n",
            " [ 30000      0]\n",
            " [ 60000      4]\n",
            " [ 80000      4]\n",
            " [ 60000      1]\n",
            " [ 80000      2]\n",
            " [ 60000      1]\n",
            " [ 80000      0]\n",
            " [ 10000      0]\n",
            " [ 40000      2]\n",
            " [120000      4]\n",
            " [ 60000      1]\n",
            " [ 60000      1]\n",
            " [ 20000      2]\n",
            " [ 20000      1]\n",
            " [ 60000      1]\n",
            " [ 20000      3]\n",
            " [ 30000      3]\n",
            " [ 70000      4]\n",
            " [ 60000      0]\n",
            " [100000      3]\n",
            " [ 80000      2]\n",
            " [ 40000      2]\n",
            " [ 40000      0]\n",
            " [ 60000      0]\n",
            " [ 60000      1]\n",
            " [ 70000      0]\n",
            " [100000      5]\n",
            " [120000      4]\n",
            " [ 70000      4]\n",
            " [ 30000      2]\n",
            " [ 20000      2]\n",
            " [130000      4]\n",
            " [ 60000      4]\n",
            " [ 40000      0]\n",
            " [ 10000      0]\n",
            " [ 50000      2]\n",
            " [130000      0]\n",
            " [ 10000      0]\n",
            " [110000      0]\n",
            " [ 10000      2]\n",
            " [110000      0]\n",
            " [ 50000      0]\n",
            " [ 80000      4]\n",
            " [ 10000      4]\n",
            " [ 10000      2]\n",
            " [ 60000      3]\n",
            " [ 30000      3]\n",
            " [ 50000      3]\n",
            " [ 70000      3]\n",
            " [ 40000      1]\n",
            " [ 40000      2]\n",
            " [ 30000      2]\n",
            " [ 50000      0]\n",
            " [ 40000      0]\n",
            " [ 30000      0]\n",
            " [ 60000      0]\n",
            " [ 40000      0]\n",
            " [ 40000      2]\n",
            " [ 30000      2]\n",
            " [ 40000      4]\n",
            " [100000      0]\n",
            " [ 40000      2]\n",
            " [ 40000      2]\n",
            " [ 80000      0]\n",
            " [ 70000      5]\n",
            " [ 80000      4]\n",
            " [ 40000      0]\n",
            " [ 40000      1]\n",
            " [120000      3]\n",
            " [120000      0]\n",
            " [ 40000      2]\n",
            " [ 60000      0]\n",
            " [ 60000      4]\n",
            " [ 30000      5]\n",
            " [ 50000      0]\n",
            " [ 70000      1]\n",
            " [ 30000      1]\n",
            " [ 30000      2]\n",
            " [ 70000      4]\n",
            " [ 70000      3]\n",
            " [ 30000      1]\n",
            " [ 70000      3]\n",
            " [ 30000      2]\n",
            " [ 70000      1]\n",
            " [ 40000      0]\n",
            " [130000      3]\n",
            " [ 60000      5]\n",
            " [ 40000      0]\n",
            " [ 50000      3]\n",
            " [ 30000      2]\n",
            " [ 80000      3]\n",
            " [ 30000      0]\n",
            " [120000      4]\n",
            " [ 60000      1]\n",
            " [ 60000      2]\n",
            " [ 90000      5]\n",
            " [ 30000      1]\n",
            " [ 40000      1]\n",
            " [ 60000      3]\n",
            " [ 30000      3]\n",
            " [ 80000      3]\n",
            " [ 30000      3]\n",
            " [ 30000      3]\n",
            " [ 60000      0]\n",
            " [ 80000      4]\n",
            " [ 20000      0]\n",
            " [ 60000      4]\n",
            " [ 60000      2]\n",
            " [ 60000      2]\n",
            " [ 80000      0]\n",
            " [ 90000      5]\n",
            " [ 10000      1]\n",
            " [ 40000      5]\n",
            " [ 40000      1]\n",
            " [ 70000      5]\n",
            " [ 80000      2]\n",
            " [ 60000      3]\n",
            " [ 60000      2]\n",
            " [ 40000      0]\n",
            " [ 90000      4]\n",
            " [ 70000      2]\n",
            " [ 40000      0]\n",
            " [ 70000      0]\n",
            " [ 20000      4]\n",
            " [ 20000      2]\n",
            " [ 60000      2]\n",
            " [ 30000      0]\n",
            " [ 60000      3]\n",
            " [ 60000      4]\n",
            " [100000      1]\n",
            " [ 70000      0]\n",
            " [100000      0]\n",
            " [ 10000      3]\n",
            " [ 10000      0]\n",
            " [ 30000      1]\n",
            " [ 70000      0]\n",
            " [ 90000      5]\n",
            " [ 20000      0]\n",
            " [ 20000      2]\n",
            " [ 20000      1]\n",
            " [ 30000      1]\n",
            " [ 70000      3]\n",
            " [ 30000      0]\n",
            " [ 20000      1]\n",
            " [ 40000      1]\n",
            " [ 30000      0]\n",
            " [ 10000      1]\n",
            " [ 60000      3]\n",
            " [ 40000      5]\n",
            " [ 60000      4]\n",
            " [ 40000      0]\n",
            " [ 70000      0]\n",
            " [ 30000      3]\n",
            " [100000      0]\n",
            " [ 40000      3]\n",
            " [ 10000      3]\n",
            " [ 30000      1]\n",
            " [ 50000      2]\n",
            " [ 60000      2]\n",
            " [ 40000      2]\n",
            " [ 70000      4]\n",
            " [ 40000      3]\n",
            " [ 60000      1]\n",
            " [ 10000      1]\n",
            " [ 70000      2]\n",
            " [ 70000      3]\n",
            " [ 30000      1]\n",
            " [ 60000      2]\n",
            " [ 60000      3]\n",
            " [100000      1]\n",
            " [ 70000      0]\n",
            " [ 60000      4]\n",
            " [ 40000      3]\n",
            " [ 90000      4]\n",
            " [120000      0]\n",
            " [ 60000      1]\n",
            " [ 90000      3]\n",
            " [ 70000      2]\n",
            " [ 60000      0]\n",
            " [ 10000      2]\n",
            " [ 10000      2]\n",
            " [100000      4]\n",
            " [ 60000      4]\n",
            " [ 70000      3]\n",
            " [ 80000      4]\n",
            " [ 30000      0]\n",
            " [ 60000      1]\n",
            " [ 30000      0]\n",
            " [ 60000      5]\n",
            " [ 20000      0]\n",
            " [ 40000      0]\n",
            " [ 60000      3]\n",
            " [100000      4]\n",
            " [ 70000      4]\n",
            " [ 60000      2]\n",
            " [ 80000      0]\n",
            " [ 60000      1]\n",
            " [130000      1]\n",
            " [ 30000      0]\n",
            " [ 30000      0]\n",
            " [ 70000      3]\n",
            " [ 50000      4]\n",
            " [ 90000      2]\n",
            " [ 20000      2]\n",
            " [ 80000      5]\n",
            " [ 30000      2]\n",
            " [120000      2]\n",
            " [ 40000      0]\n",
            " [ 80000      5]\n",
            " [ 70000      4]\n",
            " [ 20000      5]\n",
            " [ 40000      1]\n",
            " [ 20000      0]\n",
            " [ 40000      0]\n",
            " [ 60000      3]\n",
            " [ 40000      2]\n",
            " [ 40000      2]\n",
            " [ 50000      1]\n",
            " [ 40000      2]\n",
            " [ 60000      5]\n",
            " [ 50000      2]\n",
            " [ 40000      2]\n",
            " [ 40000      2]\n",
            " [ 60000      0]\n",
            " [ 70000      5]\n",
            " [ 30000      2]\n",
            " [ 30000      3]\n",
            " [ 50000      3]\n",
            " [ 30000      0]\n",
            " [ 60000      0]\n",
            " [ 10000      2]\n",
            " [ 60000      1]\n",
            " [ 40000      0]\n",
            " [150000      3]\n",
            " [ 80000      5]\n",
            " [ 30000      0]\n",
            " [ 80000      5]]\n"
          ]
        }
      ]
    },
    {
      "cell_type": "code",
      "source": [
        "len(X)"
      ],
      "metadata": {
        "colab": {
          "base_uri": "https://localhost:8080/"
        },
        "id": "n5my--M_Hoa1",
        "outputId": "b3f0d34d-23e2-4d21-977d-de0966348189"
      },
      "execution_count": 28,
      "outputs": [
        {
          "output_type": "execute_result",
          "data": {
            "text/plain": [
              "1000"
            ]
          },
          "metadata": {},
          "execution_count": 28
        }
      ]
    },
    {
      "cell_type": "code",
      "source": [
        "len(X_train)"
      ],
      "metadata": {
        "colab": {
          "base_uri": "https://localhost:8080/"
        },
        "id": "lgNIJ9dSHsUs",
        "outputId": "fd2d63e2-c884-49b3-c2bf-9df8bcf9ecbb"
      },
      "execution_count": 29,
      "outputs": [
        {
          "output_type": "execute_result",
          "data": {
            "text/plain": [
              "750"
            ]
          },
          "metadata": {},
          "execution_count": 29
        }
      ]
    },
    {
      "cell_type": "code",
      "source": [
        "len(X_test)"
      ],
      "metadata": {
        "colab": {
          "base_uri": "https://localhost:8080/"
        },
        "id": "cPtYTBS7Hu-V",
        "outputId": "29b17646-ff17-44b5-e12d-56e41e50d8e7"
      },
      "execution_count": 30,
      "outputs": [
        {
          "output_type": "execute_result",
          "data": {
            "text/plain": [
              "250"
            ]
          },
          "metadata": {},
          "execution_count": 30
        }
      ]
    },
    {
      "cell_type": "code",
      "source": [
        "print(y_train)"
      ],
      "metadata": {
        "colab": {
          "base_uri": "https://localhost:8080/"
        },
        "id": "4KsMNYv5P3qV",
        "outputId": "335c36c4-8a18-41af-cb7a-ee0554c10811"
      },
      "execution_count": 31,
      "outputs": [
        {
          "output_type": "stream",
          "name": "stdout",
          "text": [
            "[1 0 1 0 0 0 1 0 0 0 1 1 1 1 0 1 1 1 0 1 0 0 0 1 1 0 0 0 1 0 1 0 0 1 0 1 1\n",
            " 1 0 0 0 0 0 0 0 0 0 1 0 1 0 1 1 1 1 0 1 0 1 0 0 1 0 1 1 1 0 0 0 1 1 1 0 0\n",
            " 1 0 0 1 0 1 1 0 1 1 0 1 1 1 0 0 0 1 0 0 0 0 0 1 1 0 0 1 1 1 1 0 1 0 0 1 1\n",
            " 0 1 0 1 0 1 1 1 1 1 1 0 0 1 1 1 0 0 1 1 1 1 1 0 0 1 1 0 0 1 1 0 0 0 0 0 1\n",
            " 0 1 1 1 1 0 0 1 1 0 0 0 0 0 0 0 1 1 0 0 0 1 1 1 1 1 0 0 0 1 0 1 0 0 1 1 1\n",
            " 0 0 1 0 0 0 1 0 0 0 0 0 0 0 0 1 0 1 0 1 1 0 1 1 0 0 1 1 1 1 1 1 0 0 1 0 1\n",
            " 1 0 1 1 1 1 0 1 0 0 1 1 0 1 0 0 0 0 1 0 0 0 1 0 0 1 1 0 0 1 1 1 0 0 0 1 0\n",
            " 1 1 1 0 0 1 0 0 0 0 0 1 0 1 0 0 0 1 1 0 1 0 0 0 0 0 1 0 1 0 1 0 1 0 0 1 0\n",
            " 1 1 0 0 1 1 0 0 0 0 0 0 1 0 0 1 0 0 1 0 0 0 0 1 1 1 0 1 1 0 1 0 0 0 1 0 1\n",
            " 1 1 1 1 1 0 0 0 0 0 1 1 1 0 0 1 0 1 0 1 1 1 1 0 0 0 0 0 0 1 1 0 0 1 0 0 1\n",
            " 0 1 0 1 0 0 0 0 1 1 1 0 1 0 0 1 0 1 0 0 0 0 0 0 0 0 1 1 0 1 0 1 1 0 1 0 0\n",
            " 1 0 1 1 1 1 1 1 1 1 0 1 0 0 0 0 1 0 1 0 0 0 0 0 0 0 1 0 0 1 0 0 1 1 0 0 0\n",
            " 0 1 0 0 0 1 1 1 1 0 1 0 1 1 1 1 0 0 1 1 1 1 0 1 0 1 1 1 1 0 0 1 0 1 1 0 1\n",
            " 1 0 0 1 1 1 1 0 1 0 0 0 1 0 0 0 1 0 0 0 1 0 1 1 0 0 1 1 0 1 0 0 0 1 0 1 1\n",
            " 0 0 0 0 1 1 0 1 1 1 1 1 1 1 1 1 1 1 0 1 0 0 1 0 1 0 1 1 1 0 1 0 0 0 0 0 1\n",
            " 0 1 0 0 0 1 0 0 1 1 1 1 0 1 1 1 0 0 0 0 0 0 0 0 0 0 0 1 0 1 0 1 0 0 1 0 0\n",
            " 0 1 1 0 1 1 1 1 1 0 1 1 0 0 0 0 1 1 1 1 0 1 0 0 1 0 1 1 1 1 1 0 1 1 1 1 0\n",
            " 0 0 1 0 0 0 0 0 0 0 1 0 0 1 0 1 0 0 0 1 1 0 1 1 1 1 1 1 1 1 1 1 1 1 0 1 0\n",
            " 0 1 1 1 1 0 1 1 0 1 0 0 0 1 0 1 1 0 1 0 1 0 0 1 0 0 1 0 0 1 1 0 0 0 0 0 0\n",
            " 1 0 1 0 1 1 0 0 0 0 1 0 0 0 1 1 0 0 0 1 0 0 0 1 0 0 0 0 1 1 0 1 1 1 1 1 1\n",
            " 0 1 0 1 1 1 0 0 0 0]\n"
          ]
        }
      ]
    },
    {
      "cell_type": "code",
      "source": [
        "print(y_test)"
      ],
      "metadata": {
        "colab": {
          "base_uri": "https://localhost:8080/"
        },
        "id": "vvJ20GLEP8CG",
        "outputId": "5ca1bbc2-eac1-4bba-f4a1-ba2e4ff4381f"
      },
      "execution_count": 32,
      "outputs": [
        {
          "output_type": "stream",
          "name": "stdout",
          "text": [
            "[1 0 1 1 0 0 0 1 1 1 1 0 1 1 0 0 1 1 1 1 1 1 0 0 1 0 1 0 0 0 1 1 0 0 0 0 0\n",
            " 1 1 1 0 1 0 0 0 0 0 1 1 0 0 1 0 1 1 0 1 1 0 0 0 1 1 1 0 0 1 0 0 0 1 0 0 1\n",
            " 0 0 1 1 0 1 1 0 1 1 1 1 1 0 1 1 0 0 1 1 1 0 1 1 1 0 1 0 0 0 1 1 1 1 1 1 1\n",
            " 0 1 1 1 0 0 0 0 1 0 1 0 1 0 0 1 0 0 1 0 0 0 0 0 1 1 0 1 0 1 1 0 1 1 0 1 1\n",
            " 0 1 0 0 0 1 1 0 0 1 0 0 0 1 0 0 0 0 1 0 1 1 1 0 0 1 1 0 0 1 0 1 1 1 1 0 0\n",
            " 1 1 1 0 0 1 0 0 0 0 0 0 1 1 1 0 0 1 0 1 1 1 0 1 0 1 0 0 1 1 1 1 0 0 1 0 0\n",
            " 0 0 0 1 0 1 1 0 0 1 0 0 1 1 0 0 0 1 0 1 0 1 1 1 1 0 1 0]\n"
          ]
        }
      ]
    },
    {
      "cell_type": "code",
      "source": [
        "len(y)"
      ],
      "metadata": {
        "colab": {
          "base_uri": "https://localhost:8080/"
        },
        "id": "OGSKfYPOH0pd",
        "outputId": "c80e6612-38a8-4ae8-bd87-1c33f7e69299"
      },
      "execution_count": 33,
      "outputs": [
        {
          "output_type": "execute_result",
          "data": {
            "text/plain": [
              "1000"
            ]
          },
          "metadata": {},
          "execution_count": 33
        }
      ]
    },
    {
      "cell_type": "code",
      "source": [
        "len(y_train)"
      ],
      "metadata": {
        "colab": {
          "base_uri": "https://localhost:8080/"
        },
        "id": "jN2SFD1lH1zi",
        "outputId": "76bb3edf-9dad-4329-87ea-8bb49c9726cc"
      },
      "execution_count": 34,
      "outputs": [
        {
          "output_type": "execute_result",
          "data": {
            "text/plain": [
              "750"
            ]
          },
          "metadata": {},
          "execution_count": 34
        }
      ]
    },
    {
      "cell_type": "code",
      "source": [
        "len(y_test)"
      ],
      "metadata": {
        "colab": {
          "base_uri": "https://localhost:8080/"
        },
        "id": "uVrxUTt3H4Y7",
        "outputId": "35db5ad1-95a4-4001-84dc-a8fa4761b2e4"
      },
      "execution_count": 35,
      "outputs": [
        {
          "output_type": "execute_result",
          "data": {
            "text/plain": [
              "250"
            ]
          },
          "metadata": {},
          "execution_count": 35
        }
      ]
    },
    {
      "cell_type": "code",
      "source": [
        "from sklearn.preprocessing import StandardScaler\n",
        "sc = StandardScaler()\n",
        "X_train = sc.fit_transform(X_train)\n",
        "X_test = sc.transform(X_test)"
      ],
      "metadata": {
        "id": "-sHej2TmP97M"
      },
      "execution_count": 36,
      "outputs": []
    },
    {
      "cell_type": "code",
      "source": [
        "print(X_train)"
      ],
      "metadata": {
        "colab": {
          "base_uri": "https://localhost:8080/"
        },
        "id": "8KYMBfPNQEcD",
        "outputId": "a786fc96-aa32-4c29-df55-5b9c397d65d6"
      },
      "execution_count": 37,
      "outputs": [
        {
          "output_type": "stream",
          "name": "stdout",
          "text": [
            "[[ 1.37337992  0.67608533]\n",
            " [-0.51659245  1.89940017]\n",
            " [-1.46157863 -1.15888692]\n",
            " ...\n",
            " [-0.20159705 -0.5472295 ]\n",
            " [ 0.11339834  0.06442791]\n",
            " [ 0.11339834  1.28774275]]\n"
          ]
        }
      ]
    },
    {
      "cell_type": "code",
      "source": [
        "print(X_test)"
      ],
      "metadata": {
        "colab": {
          "base_uri": "https://localhost:8080/"
        },
        "id": "mJ2GPq5yQIQs",
        "outputId": "de9ad741-c679-4b73-f839-b09d44de64da"
      },
      "execution_count": 38,
      "outputs": [
        {
          "output_type": "stream",
          "name": "stdout",
          "text": [
            "[[ 2.9483569  -0.5472295 ]\n",
            " [-0.83158784  0.06442791]\n",
            " [ 1.05838453  1.28774275]\n",
            " [-0.51659245  0.67608533]\n",
            " [-0.51659245 -1.15888692]\n",
            " [ 0.11339834  0.06442791]\n",
            " [ 1.37337992 -1.15888692]\n",
            " [-0.51659245 -1.15888692]\n",
            " [ 1.05838453  0.06442791]\n",
            " [ 0.11339834 -1.15888692]\n",
            " [ 0.11339834  0.67608533]\n",
            " [-0.20159705  0.67608533]\n",
            " [-1.46157863  0.06442791]\n",
            " [-0.83158784 -1.15888692]\n",
            " [ 0.11339834  1.28774275]\n",
            " [ 0.74338913  1.28774275]\n",
            " [ 0.11339834 -0.5472295 ]\n",
            " [ 0.74338913  0.06442791]\n",
            " [ 0.11339834 -0.5472295 ]\n",
            " [ 0.74338913 -1.15888692]\n",
            " [-1.46157863 -1.15888692]\n",
            " [-0.51659245  0.06442791]\n",
            " [ 2.00337071  1.28774275]\n",
            " [ 0.11339834 -0.5472295 ]\n",
            " [ 0.11339834 -0.5472295 ]\n",
            " [-1.14658324  0.06442791]\n",
            " [-1.14658324 -0.5472295 ]\n",
            " [ 0.11339834 -0.5472295 ]\n",
            " [-1.14658324  0.67608533]\n",
            " [-0.83158784  0.67608533]\n",
            " [ 0.42839374  1.28774275]\n",
            " [ 0.11339834 -1.15888692]\n",
            " [ 1.37337992  0.67608533]\n",
            " [ 0.74338913  0.06442791]\n",
            " [-0.51659245  0.06442791]\n",
            " [-0.51659245 -1.15888692]\n",
            " [ 0.11339834 -1.15888692]\n",
            " [ 0.11339834 -0.5472295 ]\n",
            " [ 0.42839374 -1.15888692]\n",
            " [ 1.37337992  1.89940017]\n",
            " [ 2.00337071  1.28774275]\n",
            " [ 0.42839374  1.28774275]\n",
            " [-0.83158784  0.06442791]\n",
            " [-1.14658324  0.06442791]\n",
            " [ 2.31836611  1.28774275]\n",
            " [ 0.11339834  1.28774275]\n",
            " [-0.51659245 -1.15888692]\n",
            " [-1.46157863 -1.15888692]\n",
            " [-0.20159705  0.06442791]\n",
            " [ 2.31836611 -1.15888692]\n",
            " [-1.46157863 -1.15888692]\n",
            " [ 1.68837532 -1.15888692]\n",
            " [-1.46157863  0.06442791]\n",
            " [ 1.68837532 -1.15888692]\n",
            " [-0.20159705 -1.15888692]\n",
            " [ 0.74338913  1.28774275]\n",
            " [-1.46157863  1.28774275]\n",
            " [-1.46157863  0.06442791]\n",
            " [ 0.11339834  0.67608533]\n",
            " [-0.83158784  0.67608533]\n",
            " [-0.20159705  0.67608533]\n",
            " [ 0.42839374  0.67608533]\n",
            " [-0.51659245 -0.5472295 ]\n",
            " [-0.51659245  0.06442791]\n",
            " [-0.83158784  0.06442791]\n",
            " [-0.20159705 -1.15888692]\n",
            " [-0.51659245 -1.15888692]\n",
            " [-0.83158784 -1.15888692]\n",
            " [ 0.11339834 -1.15888692]\n",
            " [-0.51659245 -1.15888692]\n",
            " [-0.51659245  0.06442791]\n",
            " [-0.83158784  0.06442791]\n",
            " [-0.51659245  1.28774275]\n",
            " [ 1.37337992 -1.15888692]\n",
            " [-0.51659245  0.06442791]\n",
            " [-0.51659245  0.06442791]\n",
            " [ 0.74338913 -1.15888692]\n",
            " [ 0.42839374  1.89940017]\n",
            " [ 0.74338913  1.28774275]\n",
            " [-0.51659245 -1.15888692]\n",
            " [-0.51659245 -0.5472295 ]\n",
            " [ 2.00337071  0.67608533]\n",
            " [ 2.00337071 -1.15888692]\n",
            " [-0.51659245  0.06442791]\n",
            " [ 0.11339834 -1.15888692]\n",
            " [ 0.11339834  1.28774275]\n",
            " [-0.83158784  1.89940017]\n",
            " [-0.20159705 -1.15888692]\n",
            " [ 0.42839374 -0.5472295 ]\n",
            " [-0.83158784 -0.5472295 ]\n",
            " [-0.83158784  0.06442791]\n",
            " [ 0.42839374  1.28774275]\n",
            " [ 0.42839374  0.67608533]\n",
            " [-0.83158784 -0.5472295 ]\n",
            " [ 0.42839374  0.67608533]\n",
            " [-0.83158784  0.06442791]\n",
            " [ 0.42839374 -0.5472295 ]\n",
            " [-0.51659245 -1.15888692]\n",
            " [ 2.31836611  0.67608533]\n",
            " [ 0.11339834  1.89940017]\n",
            " [-0.51659245 -1.15888692]\n",
            " [-0.20159705  0.67608533]\n",
            " [-0.83158784  0.06442791]\n",
            " [ 0.74338913  0.67608533]\n",
            " [-0.83158784 -1.15888692]\n",
            " [ 2.00337071  1.28774275]\n",
            " [ 0.11339834 -0.5472295 ]\n",
            " [ 0.11339834  0.06442791]\n",
            " [ 1.05838453  1.89940017]\n",
            " [-0.83158784 -0.5472295 ]\n",
            " [-0.51659245 -0.5472295 ]\n",
            " [ 0.11339834  0.67608533]\n",
            " [-0.83158784  0.67608533]\n",
            " [ 0.74338913  0.67608533]\n",
            " [-0.83158784  0.67608533]\n",
            " [-0.83158784  0.67608533]\n",
            " [ 0.11339834 -1.15888692]\n",
            " [ 0.74338913  1.28774275]\n",
            " [-1.14658324 -1.15888692]\n",
            " [ 0.11339834  1.28774275]\n",
            " [ 0.11339834  0.06442791]\n",
            " [ 0.11339834  0.06442791]\n",
            " [ 0.74338913 -1.15888692]\n",
            " [ 1.05838453  1.89940017]\n",
            " [-1.46157863 -0.5472295 ]\n",
            " [-0.51659245  1.89940017]\n",
            " [-0.51659245 -0.5472295 ]\n",
            " [ 0.42839374  1.89940017]\n",
            " [ 0.74338913  0.06442791]\n",
            " [ 0.11339834  0.67608533]\n",
            " [ 0.11339834  0.06442791]\n",
            " [-0.51659245 -1.15888692]\n",
            " [ 1.05838453  1.28774275]\n",
            " [ 0.42839374  0.06442791]\n",
            " [-0.51659245 -1.15888692]\n",
            " [ 0.42839374 -1.15888692]\n",
            " [-1.14658324  1.28774275]\n",
            " [-1.14658324  0.06442791]\n",
            " [ 0.11339834  0.06442791]\n",
            " [-0.83158784 -1.15888692]\n",
            " [ 0.11339834  0.67608533]\n",
            " [ 0.11339834  1.28774275]\n",
            " [ 1.37337992 -0.5472295 ]\n",
            " [ 0.42839374 -1.15888692]\n",
            " [ 1.37337992 -1.15888692]\n",
            " [-1.46157863  0.67608533]\n",
            " [-1.46157863 -1.15888692]\n",
            " [-0.83158784 -0.5472295 ]\n",
            " [ 0.42839374 -1.15888692]\n",
            " [ 1.05838453  1.89940017]\n",
            " [-1.14658324 -1.15888692]\n",
            " [-1.14658324  0.06442791]\n",
            " [-1.14658324 -0.5472295 ]\n",
            " [-0.83158784 -0.5472295 ]\n",
            " [ 0.42839374  0.67608533]\n",
            " [-0.83158784 -1.15888692]\n",
            " [-1.14658324 -0.5472295 ]\n",
            " [-0.51659245 -0.5472295 ]\n",
            " [-0.83158784 -1.15888692]\n",
            " [-1.46157863 -0.5472295 ]\n",
            " [ 0.11339834  0.67608533]\n",
            " [-0.51659245  1.89940017]\n",
            " [ 0.11339834  1.28774275]\n",
            " [-0.51659245 -1.15888692]\n",
            " [ 0.42839374 -1.15888692]\n",
            " [-0.83158784  0.67608533]\n",
            " [ 1.37337992 -1.15888692]\n",
            " [-0.51659245  0.67608533]\n",
            " [-1.46157863  0.67608533]\n",
            " [-0.83158784 -0.5472295 ]\n",
            " [-0.20159705  0.06442791]\n",
            " [ 0.11339834  0.06442791]\n",
            " [-0.51659245  0.06442791]\n",
            " [ 0.42839374  1.28774275]\n",
            " [-0.51659245  0.67608533]\n",
            " [ 0.11339834 -0.5472295 ]\n",
            " [-1.46157863 -0.5472295 ]\n",
            " [ 0.42839374  0.06442791]\n",
            " [ 0.42839374  0.67608533]\n",
            " [-0.83158784 -0.5472295 ]\n",
            " [ 0.11339834  0.06442791]\n",
            " [ 0.11339834  0.67608533]\n",
            " [ 1.37337992 -0.5472295 ]\n",
            " [ 0.42839374 -1.15888692]\n",
            " [ 0.11339834  1.28774275]\n",
            " [-0.51659245  0.67608533]\n",
            " [ 1.05838453  1.28774275]\n",
            " [ 2.00337071 -1.15888692]\n",
            " [ 0.11339834 -0.5472295 ]\n",
            " [ 1.05838453  0.67608533]\n",
            " [ 0.42839374  0.06442791]\n",
            " [ 0.11339834 -1.15888692]\n",
            " [-1.46157863  0.06442791]\n",
            " [-1.46157863  0.06442791]\n",
            " [ 1.37337992  1.28774275]\n",
            " [ 0.11339834  1.28774275]\n",
            " [ 0.42839374  0.67608533]\n",
            " [ 0.74338913  1.28774275]\n",
            " [-0.83158784 -1.15888692]\n",
            " [ 0.11339834 -0.5472295 ]\n",
            " [-0.83158784 -1.15888692]\n",
            " [ 0.11339834  1.89940017]\n",
            " [-1.14658324 -1.15888692]\n",
            " [-0.51659245 -1.15888692]\n",
            " [ 0.11339834  0.67608533]\n",
            " [ 1.37337992  1.28774275]\n",
            " [ 0.42839374  1.28774275]\n",
            " [ 0.11339834  0.06442791]\n",
            " [ 0.74338913 -1.15888692]\n",
            " [ 0.11339834 -0.5472295 ]\n",
            " [ 2.31836611 -0.5472295 ]\n",
            " [-0.83158784 -1.15888692]\n",
            " [-0.83158784 -1.15888692]\n",
            " [ 0.42839374  0.67608533]\n",
            " [-0.20159705  1.28774275]\n",
            " [ 1.05838453  0.06442791]\n",
            " [-1.14658324  0.06442791]\n",
            " [ 0.74338913  1.89940017]\n",
            " [-0.83158784  0.06442791]\n",
            " [ 2.00337071  0.06442791]\n",
            " [-0.51659245 -1.15888692]\n",
            " [ 0.74338913  1.89940017]\n",
            " [ 0.42839374  1.28774275]\n",
            " [-1.14658324  1.89940017]\n",
            " [-0.51659245 -0.5472295 ]\n",
            " [-1.14658324 -1.15888692]\n",
            " [-0.51659245 -1.15888692]\n",
            " [ 0.11339834  0.67608533]\n",
            " [-0.51659245  0.06442791]\n",
            " [-0.51659245  0.06442791]\n",
            " [-0.20159705 -0.5472295 ]\n",
            " [-0.51659245  0.06442791]\n",
            " [ 0.11339834  1.89940017]\n",
            " [-0.20159705  0.06442791]\n",
            " [-0.51659245  0.06442791]\n",
            " [-0.51659245  0.06442791]\n",
            " [ 0.11339834 -1.15888692]\n",
            " [ 0.42839374  1.89940017]\n",
            " [-0.83158784  0.06442791]\n",
            " [-0.83158784  0.67608533]\n",
            " [-0.20159705  0.67608533]\n",
            " [-0.83158784 -1.15888692]\n",
            " [ 0.11339834 -1.15888692]\n",
            " [-1.46157863  0.06442791]\n",
            " [ 0.11339834 -0.5472295 ]\n",
            " [-0.51659245 -1.15888692]\n",
            " [ 2.9483569   0.67608533]\n",
            " [ 0.74338913  1.89940017]\n",
            " [-0.83158784 -1.15888692]\n",
            " [ 0.74338913  1.89940017]]\n"
          ]
        }
      ]
    },
    {
      "cell_type": "code",
      "source": [
        "from sklearn.neighbors import KNeighborsClassifier\n",
        "classifier = KNeighborsClassifier(n_neighbors = 5, metric = 'minkowski', p = 2)\n",
        "classifier.fit(X_train, y_train)"
      ],
      "metadata": {
        "colab": {
          "base_uri": "https://localhost:8080/"
        },
        "id": "iwfYcTsbQMDV",
        "outputId": "3928ebf0-805b-424f-f78a-fcd9bd391a12"
      },
      "execution_count": 39,
      "outputs": [
        {
          "output_type": "execute_result",
          "data": {
            "text/plain": [
              "KNeighborsClassifier()"
            ]
          },
          "metadata": {},
          "execution_count": 39
        }
      ]
    },
    {
      "cell_type": "code",
      "source": [
        "y_pred = classifier.predict(X_test)"
      ],
      "metadata": {
        "id": "Cu9CJx6LQvEV"
      },
      "execution_count": 40,
      "outputs": []
    },
    {
      "cell_type": "code",
      "source": [
        "from sklearn.metrics import confusion_matrix\n",
        "cm = confusion_matrix(y_test, y_pred)\n",
        "print(cm)"
      ],
      "metadata": {
        "colab": {
          "base_uri": "https://localhost:8080/"
        },
        "id": "MRP_mNjuQyPm",
        "outputId": "eeb3e3f1-b97c-4df2-8e48-602850cc5aa1"
      },
      "execution_count": 41,
      "outputs": [
        {
          "output_type": "stream",
          "name": "stdout",
          "text": [
            "[[74 51]\n",
            " [61 64]]\n"
          ]
        }
      ]
    },
    {
      "cell_type": "code",
      "source": [
        "from matplotlib.colors import ListedColormap\n",
        "X_set, y_set = X_train, y_train\n",
        "X1, X2 = np.meshgrid(np.arange(start = X_set[:, 0].min() - 1, stop = X_set[:, 0].max() + 1, step = 0.01),\n",
        "                     np.arange(start = X_set[:, 1].min() - 1, stop = X_set[:, 1].max() + 1, step = 0.01))\n",
        "plt.contourf(X1, X2, classifier.predict(np.array([X1.ravel(), X2.ravel()]).T).reshape(X1.shape),\n",
        "             alpha = 0.75, cmap = ListedColormap(('red', 'green')))\n",
        "plt.xlim(X1.min(), X1.max())\n",
        "plt.ylim(X2.min(), X2.max())\n",
        "for i, j in enumerate(np.unique(y_set)):\n",
        "  plt.scatter(X_set[y_set == j, 0], X_set[y_set == j, 1],\n",
        "              c = ListedColormap(('red', 'green'))(i), label = j)\n",
        "plt.title('K-NN (Training set)')\n",
        "plt.xlabel('Income')\n",
        "plt.ylabel('Children')\n",
        "plt.legend()\n",
        "plt.show()"
      ],
      "metadata": {
        "colab": {
          "base_uri": "https://localhost:8080/",
          "height": 350
        },
        "id": "0Qh8Ypq0Q5u9",
        "outputId": "6ddb54d9-860a-4d1c-dac1-c8fb28121ce0"
      },
      "execution_count": 42,
      "outputs": [
        {
          "output_type": "stream",
          "name": "stderr",
          "text": [
            "*c* argument looks like a single numeric RGB or RGBA sequence, which should be avoided as value-mapping will have precedence in case its length matches with *x* & *y*.  Please use the *color* keyword-argument or provide a 2-D array with a single row if you intend to specify the same RGB or RGBA value for all points.\n",
            "*c* argument looks like a single numeric RGB or RGBA sequence, which should be avoided as value-mapping will have precedence in case its length matches with *x* & *y*.  Please use the *color* keyword-argument or provide a 2-D array with a single row if you intend to specify the same RGB or RGBA value for all points.\n"
          ]
        },
        {
          "output_type": "display_data",
          "data": {
            "text/plain": [
              "<Figure size 432x288 with 1 Axes>"
            ],
            "image/png": "[encoded data removed]"
          },
          "metadata": {
            "needs_background": "light"
          }
        }
      ]
    },
    {
      "cell_type": "code",
      "source": [
        "from matplotlib.colors import ListedColormap\n",
        "X_set, y_set = X_test, y_test\n",
        "X1, X2 = np.meshgrid(np.arange(start = X_set[:, 0].min() - 1, stop = X_set[:, 0].max() + 1, step = 0.01),\n",
        "                     np.arange(start = X_set[:, 1].min() - 1, stop = X_set[:, 1].max() + 1, step = 0.01))\n",
        "plt.contourf(X1, X2, classifier.predict(np.array([X1.ravel(), X2.ravel()]).T).reshape(X1.shape),\n",
        "             alpha = 0.75, cmap = ListedColormap(('red', 'green')))\n",
        "plt.xlim(X1.min(), X1.max())\n",
        "plt.ylim(X2.min(), X2.max())\n",
        "for i, j in enumerate(np.unique(y_set)):\n",
        "  plt.scatter(X_set[y_set == j, 0], X_set[y_set == j, 1],\n",
        "              c = ListedColormap(('red', 'green'))(i), label = j)\n",
        "plt.title('K-NN (Test set)')\n",
        "plt.xlabel('Income')\n",
        "plt.ylabel('Children')\n",
        "plt.legend()\n",
        "plt.show()"
      ],
      "metadata": {
        "colab": {
          "base_uri": "https://localhost:8080/",
          "height": 350
        },
        "id": "CYje_XCNRJk1",
        "outputId": "57032ffc-32b7-4b38-fb75-5935f9cc677d"
      },
      "execution_count": 43,
      "outputs": [
        {
          "output_type": "stream",
          "name": "stderr",
          "text": [
            "*c* argument looks like a single numeric RGB or RGBA sequence, which should be avoided as value-mapping will have precedence in case its length matches with *x* & *y*.  Please use the *color* keyword-argument or provide a 2-D array with a single row if you intend to specify the same RGB or RGBA value for all points.\n",
            "*c* argument looks like a single numeric RGB or RGBA sequence, which should be avoided as value-mapping will have precedence in case its length matches with *x* & *y*.  Please use the *color* keyword-argument or provide a 2-D array with a single row if you intend to specify the same RGB or RGBA value for all points.\n"
          ]
        },
        {
          "output_type": "display_data",
          "data": {
            "text/plain": [
              "<Figure size 432x288 with 1 Axes>"
            ],
            "image/png": "[encoded data removed]"
          },
          "metadata": {
            "needs_background": "light"
          }
        }
      ]
    }
  ]
}